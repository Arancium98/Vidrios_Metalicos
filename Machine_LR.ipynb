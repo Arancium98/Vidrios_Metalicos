{
 "cells": [
  {
   "cell_type": "markdown",
   "id": "504d02de",
   "metadata": {},
   "source": [
    "# Semana 3: Machine Learning"
   ]
  },
  {
   "cell_type": "code",
   "execution_count": 1,
   "id": "2d9802d1",
   "metadata": {
    "scrolled": true
   },
   "outputs": [
    {
     "name": "stdout",
     "output_type": "stream",
     "text": [
      "Defaulting to user installation because normal site-packages is not writeable\n",
      "Requirement already satisfied: tabulate in /home/arancium/.local/lib/python3.10/site-packages (0.8.10)\n",
      "Note: you may need to restart the kernel to use updated packages.\n"
     ]
    }
   ],
   "source": [
    "pip install tabulate"
   ]
  },
  {
   "cell_type": "code",
   "execution_count": 2,
   "id": "60a35b9c",
   "metadata": {},
   "outputs": [],
   "source": [
    "import pandas as pd\n",
    "import numpy as np\n",
    "import matplotlib.pyplot as plt\n",
    "import seaborn as sns\n",
    "\n",
    "from sklearn.preprocessing import MinMaxScaler\n",
    "from sklearn.preprocessing import OneHotEncoder\n",
    "from sklearn.model_selection import train_test_split\n",
    "from sklearn.linear_model import LinearRegression\n",
    "from sklearn.linear_model import Ridge\n",
    "from tabulate import tabulate"
   ]
  },
  {
   "cell_type": "code",
   "execution_count": 3,
   "id": "d76d9a50",
   "metadata": {},
   "outputs": [],
   "source": [
    "# Lectura y feature engineering\n",
    "Datos = pd.read_csv('dataset/Tabla_pasantia_cleaned.csv', sep=',', skiprows=1, names=['test', 'Cu_per', 'Zr_per', 'Crate', 'Lx', 'Ly', 'Lz', 'Srate', 'T', 'E', 'Smax'])\n",
    "Datos = Datos.drop(['Cu_per','Zr_per','Lx','Ly','Lz'],axis=1)\n",
    "\n",
    "#One hot encoding\n",
    "Datos['test'] = OneHotEncoder().fit_transform(Datos['test'].to_numpy().reshape(-1,1)).toarray()\n",
    "\n",
    "#Escalamiento\n",
    "Data_scaled = MinMaxScaler().fit_transform(Datos)\n",
    "\n",
    "#Transformacion a Pandas\n",
    "Data_scaled_pandas = pd.DataFrame(Data_scaled, columns = ['test', 'Crate', 'Srate', 'T', 'E', 'Smax'])"
   ]
  },
  {
   "cell_type": "markdown",
   "id": "538c0e14",
   "metadata": {},
   "source": [
    "# variables independientes: Test, Crate, Srate, T, E"
   ]
  },
  {
   "cell_type": "code",
   "execution_count": 4,
   "id": "19c5efb3",
   "metadata": {
    "scrolled": true
   },
   "outputs": [
    {
     "name": "stdout",
     "output_type": "stream",
     "text": [
      "╒════════════════╤═══════════════════════════════════════════════════════════════╤══════════════╤═════════════╤════════════╕\n",
      "│   random_state │ test - Crate - Srate - T - E                                  │   Intercepto │   R^2 train │   R^2 test │\n",
      "╞════════════════╪═══════════════════════════════════════════════════════════════╪══════════════╪═════════════╪════════════╡\n",
      "│             23 │ [-0.01702106  0.01702106  0.08255822  0.48571243 -0.25155081] │      0.42927 │     0.31365 │  0.0710968 │\n",
      "╘════════════════╧═══════════════════════════════════════════════════════════════╧══════════════╧═════════════╧════════════╛\n"
     ]
    }
   ],
   "source": [
    "# random_state = 23\n",
    "X = Data_scaled_pandas[['test', 'Crate', 'Srate', 'T', 'E']]\n",
    "y = Data_scaled_pandas['Smax']\n",
    "X_train, X_test, y_train, y_test = train_test_split(X,y, random_state=23)\n",
    "\n",
    "lr = LinearRegression().fit(X_train,y_train)\n",
    "\n",
    "datos_tabla1 = [23, lr.coef_, lr.intercept_, lr.score(X_train,y_train), lr.score(X_test,y_test)]\n",
    "#tabla\n",
    "table= [['random_state', 'test - Crate - Srate - T - E', 'Intercepto', 'R^2 train', 'R^2 test'], \n",
    "         [23, lr.coef_, lr.intercept_, lr.score(X_train,y_train), lr.score(X_test,y_test)]]\n",
    "print(tabulate(table, headers='firstrow', tablefmt='fancy_grid'))\n"
   ]
  },
  {
   "cell_type": "code",
   "execution_count": 5,
   "id": "3612374a",
   "metadata": {},
   "outputs": [
    {
     "name": "stdout",
     "output_type": "stream",
     "text": [
      "╒════════════════╤══════════════════════════════════════════════════════════════════╤══════════════╤═════════════╤════════════╕\n",
      "│   random_state │ test - Crate - Srate - T - E                                     │   Intercepto │   R^2 train │   R^2 test │\n",
      "╞════════════════╪══════════════════════════════════════════════════════════════════╪══════════════╪═════════════╪════════════╡\n",
      "│           4287 │ [-1.82937145e+12 -1.82937145e+12  4.69360352e-02  5.27137756e-01 │  1.82937e+12 │    0.258432 │   0.281188 │\n",
      "│                │  -3.00735474e-01]                                                │              │             │            │\n",
      "╘════════════════╧══════════════════════════════════════════════════════════════════╧══════════════╧═════════════╧════════════╛\n"
     ]
    }
   ],
   "source": [
    "# random_state = 4287\n",
    "X = Data_scaled_pandas[['test', 'Crate', 'Srate', 'T', 'E']]\n",
    "y = Data_scaled_pandas['Smax']\n",
    "X_train, X_test, y_train, y_test = train_test_split(X,y, random_state=4287)\n",
    "\n",
    "lr = LinearRegression().fit(X_train,y_train)\n",
    "\n",
    "datos_tabla2 = [4287, lr.coef_, lr.intercept_, lr.score(X_train,y_train), lr.score(X_test,y_test)]\n",
    "\n",
    "# tabla\n",
    "table = [['random_state', 'test - Crate - Srate - T - E', 'Intercepto', 'R^2 train', 'R^2 test'], [4287, lr.coef_, lr.intercept_, lr.score(X_train,y_train), lr.score(X_test,y_test)]]\n",
    "print(tabulate(table, headers='firstrow', tablefmt='fancy_grid'))\n"
   ]
  },
  {
   "cell_type": "code",
   "execution_count": 6,
   "id": "d2015245",
   "metadata": {},
   "outputs": [
    {
     "name": "stdout",
     "output_type": "stream",
     "text": [
      "╒════════════════╤══════════════════════════════════════════════════════════════════╤══════════════╤═════════════╤════════════╕\n",
      "│   random_state │ test - Crate - Srate - T - E                                     │   Intercepto │   R^2 train │   R^2 test │\n",
      "╞════════════════╪══════════════════════════════════════════════════════════════════╪══════════════╪═════════════╪════════════╡\n",
      "│           5673 │ [ 5.02160476e+13  5.02160476e+13  7.42187500e-02  4.52880859e-01 │  -5.0216e+13 │    0.227008 │   0.450566 │\n",
      "│                │  -2.64892578e-01]                                                │              │             │            │\n",
      "╘════════════════╧══════════════════════════════════════════════════════════════════╧══════════════╧═════════════╧════════════╛\n"
     ]
    }
   ],
   "source": [
    "# random_state = 5673\n",
    "X = Data_scaled_pandas[['test', 'Crate', 'Srate', 'T', 'E']]\n",
    "y = Data_scaled_pandas['Smax']\n",
    "X_train, X_test, y_train, y_test = train_test_split(X,y, random_state=5673)\n",
    "\n",
    "lr = LinearRegression().fit(X_train,y_train)\n",
    "\n",
    "datos_tabla3 = [5673, lr.coef_, lr.intercept_, lr.score(X_train,y_train), lr.score(X_test,y_test)]\n",
    "\n",
    "# tabla\n",
    "table = [['random_state', 'test - Crate - Srate - T - E', 'Intercepto', 'R^2 train', 'R^2 test'], [5673, lr.coef_, lr.intercept_, lr.score(X_train,y_train), lr.score(X_test,y_test)]]\n",
    "print(tabulate(table, headers='firstrow', tablefmt='fancy_grid'))"
   ]
  },
  {
   "cell_type": "code",
   "execution_count": 7,
   "id": "801d0609",
   "metadata": {},
   "outputs": [
    {
     "name": "stdout",
     "output_type": "stream",
     "text": [
      "╒════════════════╤══════════════════════════════════════════════════════════════════╤══════════════╤═════════════╤════════════╕\n",
      "│   random_state │ test - Crate - Srate - T - E                                     │   Intercepto │   R^2 train │   R^2 test │\n",
      "╞════════════════╪══════════════════════════════════════════════════════════════════╪══════════════╪═════════════╪════════════╡\n",
      "│            115 │ [-6.89050349e+12 -6.89050349e+12  1.23046875e-01  4.89624023e-01 │   6.8905e+12 │    0.345944 │ 0.00878953 │\n",
      "│                │  -2.55065918e-01]                                                │              │             │            │\n",
      "╘════════════════╧══════════════════════════════════════════════════════════════════╧══════════════╧═════════════╧════════════╛\n"
     ]
    }
   ],
   "source": [
    "# random_state = 115\n",
    "X = Data_scaled_pandas[['test', 'Crate', 'Srate', 'T', 'E']]\n",
    "y = Data_scaled_pandas['Smax']\n",
    "X_train, X_test, y_train, y_test = train_test_split(X,y, random_state=115)\n",
    "\n",
    "lr = LinearRegression().fit(X_train,y_train)\n",
    "\n",
    "datos_tabla4 = [115, lr.coef_, lr.intercept_, lr.score(X_train,y_train), lr.score(X_test,y_test)]\n",
    "\n",
    "# tabla\n",
    "table = [['random_state', 'test - Crate - Srate - T - E', 'Intercepto', 'R^2 train', 'R^2 test'], [115, lr.coef_, lr.intercept_, lr.score(X_train,y_train), lr.score(X_test,y_test)]]\n",
    "print(tabulate(table, headers='firstrow', tablefmt='fancy_grid'))"
   ]
  },
  {
   "cell_type": "code",
   "execution_count": 8,
   "id": "7ab1f1b6",
   "metadata": {},
   "outputs": [
    {
     "name": "stdout",
     "output_type": "stream",
     "text": [
      "╒════════════════╤══════════════════════════════════════════════════════════════════╤══════════════╤═════════════╤════════════╕\n",
      "│   random_state │ test - Crate - Srate - T - E                                     │   Intercepto │   R^2 train │   R^2 test │\n",
      "╞════════════════╪══════════════════════════════════════════════════════════════════╪══════════════╪═════════════╪════════════╡\n",
      "│           2298 │ [-2.55009616e+13 -2.55009616e+13  6.39648438e-02  5.36254883e-01 │   2.5501e+13 │     0.33016 │   0.116098 │\n",
      "│                │  -2.12097168e-01]                                                │              │             │            │\n",
      "╘════════════════╧══════════════════════════════════════════════════════════════════╧══════════════╧═════════════╧════════════╛\n"
     ]
    }
   ],
   "source": [
    "# random_state = 2298\n",
    "X = Data_scaled_pandas[['test', 'Crate', 'Srate', 'T', 'E']]\n",
    "y = Data_scaled_pandas['Smax']\n",
    "X_train, X_test, y_train, y_test = train_test_split(X,y, random_state=2298)\n",
    "\n",
    "lr = LinearRegression().fit(X_train,y_train)\n",
    "\n",
    "datos_tabla5 = [2298, lr.coef_, lr.intercept_, lr.score(X_train,y_train), lr.score(X_test,y_test)]\n",
    "\n",
    "# tabla\n",
    "table = [['random_state', 'test - Crate - Srate - T - E', 'Intercepto', 'R^2 train', 'R^2 test'], [2298, lr.coef_, lr.intercept_, lr.score(X_train,y_train), lr.score(X_test,y_test)]]\n",
    "print(tabulate(table, headers='firstrow', tablefmt='fancy_grid'))"
   ]
  },
  {
   "cell_type": "code",
   "execution_count": 9,
   "id": "30c3e20e",
   "metadata": {},
   "outputs": [
    {
     "name": "stdout",
     "output_type": "stream",
     "text": [
      "╒════════════════╤══════════════════════════════════════════════════════════════════╤══════════════╤═════════════╤════════════╕\n",
      "│   random_state │ test - Crate - Srate - T - E                                     │   Intercepto │   R^2 train │   R^2 test │\n",
      "╞════════════════╪══════════════════════════════════════════════════════════════════╪══════════════╪═════════════╪════════════╡\n",
      "│            309 │ [ 2.53030860e+13  2.53030860e+13  3.36914062e-02  5.56640625e-01 │ -2.53031e+13 │     0.28129 │    0.20162 │\n",
      "│                │  -1.87377930e-01]                                                │              │             │            │\n",
      "╘════════════════╧══════════════════════════════════════════════════════════════════╧══════════════╧═════════════╧════════════╛\n"
     ]
    }
   ],
   "source": [
    "# random_state = 309\n",
    "X = Data_scaled_pandas[['test', 'Crate', 'Srate', 'T', 'E']]\n",
    "y = Data_scaled_pandas['Smax']\n",
    "X_train, X_test, y_train, y_test = train_test_split(X,y, random_state=309)\n",
    "\n",
    "# Preparacion modelo Linear regression\n",
    "# Entrenamiento de algoritmo\n",
    "lr = LinearRegression().fit(X_train,y_train)\n",
    "\n",
    "datos_tabla6 = [309, lr.coef_, lr.intercept_, lr.score(X_train,y_train), lr.score(X_test,y_test)]\n",
    "\n",
    "# tabla\n",
    "table = [['random_state', 'test - Crate - Srate - T - E', 'Intercepto', 'R^2 train', 'R^2 test'], [309, lr.coef_, lr.intercept_, lr.score(X_train,y_train), lr.score(X_test,y_test)]]\n",
    "print(tabulate(table, headers='firstrow', tablefmt='fancy_grid'))"
   ]
  },
  {
   "cell_type": "code",
   "execution_count": 10,
   "id": "767c9a04",
   "metadata": {},
   "outputs": [
    {
     "name": "stdout",
     "output_type": "stream",
     "text": [
      "╒════════════════╤══════════════════════════════════════════════════════════════════╤══════════════╤═════════════╤════════════╕\n",
      "│   random_state │ test - Crate - Srate - T - E                                     │   Intercepto │   R^2 train │   R^2 test │\n",
      "╞════════════════╪══════════════════════════════════════════════════════════════════╪══════════════╪═════════════╪════════════╡\n",
      "│            147 │ [ 6.67197654e+12  6.67197654e+12  6.40869141e-02  5.39978027e-01 │ -6.67198e+12 │    0.360497 │ 0.00841791 │\n",
      "│                │  -2.35717773e-01]                                                │              │             │            │\n",
      "╘════════════════╧══════════════════════════════════════════════════════════════════╧══════════════╧═════════════╧════════════╛\n"
     ]
    }
   ],
   "source": [
    "# random_state = 147\n",
    "X = Data_scaled_pandas[['test', 'Crate', 'Srate', 'T', 'E']]\n",
    "y = Data_scaled_pandas['Smax']\n",
    "X_train, X_test, y_train, y_test = train_test_split(X,y, random_state=147)\n",
    "\n",
    "lr = LinearRegression().fit(X_train,y_train)\n",
    "\n",
    "datos_tabla7 = [147, lr.coef_, lr.intercept_, lr.score(X_train,y_train), lr.score(X_test,y_test)]\n",
    "\n",
    "# tabla\n",
    "table = [['random_state', 'test - Crate - Srate - T - E', 'Intercepto', 'R^2 train', 'R^2 test'], [147, lr.coef_, lr.intercept_, lr.score(X_train,y_train), lr.score(X_test,y_test)]]\n",
    "print(tabulate(table, headers='firstrow', tablefmt='fancy_grid'))"
   ]
  },
  {
   "cell_type": "code",
   "execution_count": 11,
   "id": "be41ae01",
   "metadata": {},
   "outputs": [
    {
     "name": "stdout",
     "output_type": "stream",
     "text": [
      "╒════════════════╤══════════════════════════════════════════════════════════════════╤══════════════╤═════════════╤════════════╕\n",
      "│   random_state │ test - Crate - Srate - T - E                                     │   Intercepto │   R^2 train │   R^2 test │\n",
      "╞════════════════╪══════════════════════════════════════════════════════════════════╪══════════════╪═════════════╪════════════╡\n",
      "│            802 │ [ 3.90080819e+12  3.90080819e+12  1.05224609e-01  5.11474609e-01 │ -3.90081e+12 │    0.340419 │ 0.00518426 │\n",
      "│                │  -2.52197266e-01]                                                │              │             │            │\n",
      "╘════════════════╧══════════════════════════════════════════════════════════════════╧══════════════╧═════════════╧════════════╛\n"
     ]
    }
   ],
   "source": [
    "# random_state = 802\n",
    "X = Data_scaled_pandas[['test', 'Crate', 'Srate', 'T', 'E']]\n",
    "y = Data_scaled_pandas['Smax']\n",
    "X_train, X_test, y_train, y_test = train_test_split(X,y, random_state=802)\n",
    "\n",
    "lr = LinearRegression().fit(X_train,y_train)\n",
    "\n",
    "datos_tabla8 = [802, lr.coef_, lr.intercept_, lr.score(X_train,y_train), lr.score(X_test,y_test)]\n",
    "\n",
    "# tabla\n",
    "table = [['random_state', 'test - Crate - Srate - T - E', 'Intercepto', 'R^2 train', 'R^2 test'], [802, lr.coef_, lr.intercept_, lr.score(X_train,y_train), lr.score(X_test,y_test)]]\n",
    "print(tabulate(table, headers='firstrow', tablefmt='fancy_grid'))"
   ]
  },
  {
   "cell_type": "code",
   "execution_count": 12,
   "id": "bcc7ddd4",
   "metadata": {},
   "outputs": [
    {
     "name": "stdout",
     "output_type": "stream",
     "text": [
      "╒════════════════╤══════════════════════════════════════════════════════════════════╤══════════════╤═════════════╤════════════╕\n",
      "│   random_state │ test - Crate - Srate - T - E                                     │   Intercepto │   R^2 train │   R^2 test │\n",
      "╞════════════════╪══════════════════════════════════════════════════════════════════╪══════════════╪═════════════╪════════════╡\n",
      "│           5372 │ [-9.91831517e+12 -9.91831517e+12  8.45947266e-02  4.92599487e-01 │  9.91832e+12 │    0.223966 │   0.315414 │\n",
      "│                │  -1.87164307e-01]                                                │              │             │            │\n",
      "╘════════════════╧══════════════════════════════════════════════════════════════════╧══════════════╧═════════════╧════════════╛\n"
     ]
    }
   ],
   "source": [
    "# random_state = 5372\n",
    "X = Data_scaled_pandas[['test', 'Crate', 'Srate', 'T', 'E']]\n",
    "y = Data_scaled_pandas['Smax']\n",
    "X_train, X_test, y_train, y_test = train_test_split(X,y, random_state=5372)\n",
    "\n",
    "lr = LinearRegression().fit(X_train,y_train)\n",
    "\n",
    "datos_tabla9 = [5372, lr.coef_, lr.intercept_, lr.score(X_train,y_train), lr.score(X_test,y_test)]\n",
    "\n",
    "# tabla\n",
    "table = [['random_state', 'test - Crate - Srate - T - E', 'Intercepto', 'R^2 train', 'R^2 test'], [5372, lr.coef_, lr.intercept_, lr.score(X_train,y_train), lr.score(X_test,y_test)]]\n",
    "print(tabulate(table, headers='firstrow', tablefmt='fancy_grid'))"
   ]
  },
  {
   "cell_type": "code",
   "execution_count": 13,
   "id": "d91f017d",
   "metadata": {},
   "outputs": [
    {
     "name": "stdout",
     "output_type": "stream",
     "text": [
      "╒════════════════╤══════════════════════════════════════════════════════════════════╤══════════════╤═════════════╤════════════╕\n",
      "│   random_state │ test - Crate - Srate - T - E                                     │   Intercepto │   R^2 train │   R^2 test │\n",
      "╞════════════════╪══════════════════════════════════════════════════════════════════╪══════════════╪═════════════╪════════════╡\n",
      "│            377 │ [ 8.57656760e+12  8.57656760e+12  8.66699219e-03  5.98754883e-01 │ -8.57657e+12 │    0.349432 │  -0.102354 │\n",
      "│                │  -1.88949585e-01]                                                │              │             │            │\n",
      "╘════════════════╧══════════════════════════════════════════════════════════════════╧══════════════╧═════════════╧════════════╛\n"
     ]
    }
   ],
   "source": [
    "# random_state = 377\n",
    "X = Data_scaled_pandas[['test', 'Crate', 'Srate', 'T', 'E']]\n",
    "y = Data_scaled_pandas['Smax']\n",
    "X_train, X_test, y_train, y_test = train_test_split(X,y, random_state=377)\n",
    "\n",
    "# Preparacion modelo Linear regression\n",
    "# Entrenamiento de algoritmo\n",
    "lr = LinearRegression().fit(X_train,y_train)\n",
    "\n",
    "datos_tabla10 = [377, lr.coef_, lr.intercept_, lr.score(X_train,y_train), lr.score(X_test,y_test)]\n",
    "\n",
    "# tabla\n",
    "table = [['random_state', 'test - Crate - Srate - T - E', 'Intercepto', 'R^2 train', 'R^2 test'], [377, lr.coef_, lr.intercept_, lr.score(X_train,y_train), lr.score(X_test,y_test)]]\n",
    "print(tabulate(table, headers='firstrow', tablefmt='fancy_grid'))"
   ]
  },
  {
   "cell_type": "markdown",
   "id": "efa0a1a9",
   "metadata": {},
   "source": [
    "# Resumen (test, Crate, Srate, T, E) Y 10 random_state"
   ]
  },
  {
   "cell_type": "code",
   "execution_count": 14,
   "id": "c6dc635a",
   "metadata": {
    "scrolled": true
   },
   "outputs": [
    {
     "name": "stdout",
     "output_type": "stream",
     "text": [
      "╒════════════════╤══════════════════════════════════════════════════════════════════╤══════════════╤═════════════╤═════════════╕\n",
      "│   random_state │ test - Crate - Srate - T - E                                     │   Intercepto │   R^2 train │    R^2 test │\n",
      "╞════════════════╪══════════════════════════════════════════════════════════════════╪══════════════╪═════════════╪═════════════╡\n",
      "│             23 │ [-0.01702106  0.01702106  0.08255822  0.48571243 -0.25155081]    │  0.42927     │    0.31365  │  0.0710968  │\n",
      "├────────────────┼──────────────────────────────────────────────────────────────────┼──────────────┼─────────────┼─────────────┤\n",
      "│           4287 │ [-1.82937145e+12 -1.82937145e+12  4.69360352e-02  5.27137756e-01 │  1.82937e+12 │    0.258432 │  0.281188   │\n",
      "│                │  -3.00735474e-01]                                                │              │             │             │\n",
      "├────────────────┼──────────────────────────────────────────────────────────────────┼──────────────┼─────────────┼─────────────┤\n",
      "│           5673 │ [ 5.02160476e+13  5.02160476e+13  7.42187500e-02  4.52880859e-01 │ -5.0216e+13  │    0.227008 │  0.450566   │\n",
      "│                │  -2.64892578e-01]                                                │              │             │             │\n",
      "├────────────────┼──────────────────────────────────────────────────────────────────┼──────────────┼─────────────┼─────────────┤\n",
      "│            115 │ [-6.89050349e+12 -6.89050349e+12  1.23046875e-01  4.89624023e-01 │  6.8905e+12  │    0.345944 │  0.00878953 │\n",
      "│                │  -2.55065918e-01]                                                │              │             │             │\n",
      "├────────────────┼──────────────────────────────────────────────────────────────────┼──────────────┼─────────────┼─────────────┤\n",
      "│           2298 │ [-2.55009616e+13 -2.55009616e+13  6.39648438e-02  5.36254883e-01 │  2.5501e+13  │    0.33016  │  0.116098   │\n",
      "│                │  -2.12097168e-01]                                                │              │             │             │\n",
      "├────────────────┼──────────────────────────────────────────────────────────────────┼──────────────┼─────────────┼─────────────┤\n",
      "│            309 │ [ 2.53030860e+13  2.53030860e+13  3.36914062e-02  5.56640625e-01 │ -2.53031e+13 │    0.28129  │  0.20162    │\n",
      "│                │  -1.87377930e-01]                                                │              │             │             │\n",
      "├────────────────┼──────────────────────────────────────────────────────────────────┼──────────────┼─────────────┼─────────────┤\n",
      "│            147 │ [ 6.67197654e+12  6.67197654e+12  6.40869141e-02  5.39978027e-01 │ -6.67198e+12 │    0.360497 │  0.00841791 │\n",
      "│                │  -2.35717773e-01]                                                │              │             │             │\n",
      "├────────────────┼──────────────────────────────────────────────────────────────────┼──────────────┼─────────────┼─────────────┤\n",
      "│            802 │ [ 3.90080819e+12  3.90080819e+12  1.05224609e-01  5.11474609e-01 │ -3.90081e+12 │    0.340419 │  0.00518426 │\n",
      "│                │  -2.52197266e-01]                                                │              │             │             │\n",
      "├────────────────┼──────────────────────────────────────────────────────────────────┼──────────────┼─────────────┼─────────────┤\n",
      "│           5372 │ [-9.91831517e+12 -9.91831517e+12  8.45947266e-02  4.92599487e-01 │  9.91832e+12 │    0.223966 │  0.315414   │\n",
      "│                │  -1.87164307e-01]                                                │              │             │             │\n",
      "├────────────────┼──────────────────────────────────────────────────────────────────┼──────────────┼─────────────┼─────────────┤\n",
      "│            377 │ [ 8.57656760e+12  8.57656760e+12  8.66699219e-03  5.98754883e-01 │ -8.57657e+12 │    0.349432 │ -0.102354   │\n",
      "│                │  -1.88949585e-01]                                                │              │             │             │\n",
      "╘════════════════╧══════════════════════════════════════════════════════════════════╧══════════════╧═════════════╧═════════════╛\n"
     ]
    }
   ],
   "source": [
    "headers = ['random_state', 'test - Crate - Srate - T - E', 'Intercepto', 'R^2 train', 'R^2 test']\n",
    "tabla_resumen1 = [headers, datos_tabla1, datos_tabla2, datos_tabla3, datos_tabla4, datos_tabla5, \n",
    "                 datos_tabla6, datos_tabla7, datos_tabla8, datos_tabla9, datos_tabla10]\n",
    "print(tabulate(tabla_resumen1, headers='firstrow', tablefmt='fancy_grid'))"
   ]
  },
  {
   "cell_type": "markdown",
   "id": "914fdb48",
   "metadata": {},
   "source": [
    "# Variables independientes = Test, T, E"
   ]
  },
  {
   "cell_type": "code",
   "execution_count": 15,
   "id": "d6a9ccad",
   "metadata": {},
   "outputs": [
    {
     "name": "stdout",
     "output_type": "stream",
     "text": [
      "╒════════════════╤═══════════════════════════════════════╤══════════════╤═════════════╤════════════╕\n",
      "│   random_state │ test - T - E                          │   Intercepto │   R^2 train │   R^2 test │\n",
      "╞════════════════╪═══════════════════════════════════════╪══════════════╪═════════════╪════════════╡\n",
      "│             45 │ [-0.04034491  0.14336388 -0.31670197] │     0.477001 │    0.180778 │   0.113325 │\n",
      "╘════════════════╧═══════════════════════════════════════╧══════════════╧═════════════╧════════════╛\n"
     ]
    }
   ],
   "source": [
    "# random_state = 45\n",
    "X = Data_scaled_pandas[['test', 'T', 'E']]\n",
    "y = Data_scaled_pandas['Smax']\n",
    "X_train, X_test, y_train, y_test = train_test_split(X,y, random_state=45)\n",
    "\n",
    "\n",
    "lr = LinearRegression().fit(X_train,y_train)\n",
    "\n",
    "datos_tabla11 = [45, lr.coef_, lr.intercept_, lr.score(X_train,y_train), lr.score(X_test,y_test)]\n",
    "#tabla\n",
    "table = [['random_state', 'test - T - E', 'Intercepto', 'R^2 train', 'R^2 test'], \n",
    "         [45, lr.coef_, lr.intercept_, lr.score(X_train,y_train), lr.score(X_test,y_test)]]\n",
    "print(tabulate(table, headers='firstrow', tablefmt='fancy_grid'))"
   ]
  },
  {
   "cell_type": "code",
   "execution_count": 16,
   "id": "c6358946",
   "metadata": {},
   "outputs": [
    {
     "name": "stdout",
     "output_type": "stream",
     "text": [
      "╒════════════════╤═══════════════════════════════════════╤══════════════╤═════════════╤════════════╕\n",
      "│   random_state │ test - T - E                          │   Intercepto │   R^2 train │   R^2 test │\n",
      "╞════════════════╪═══════════════════════════════════════╪══════════════╪═════════════╪════════════╡\n",
      "│            705 │ [-0.06264426  0.55304035 -0.22296108] │     0.457952 │    0.299196 │    0.10668 │\n",
      "╘════════════════╧═══════════════════════════════════════╧══════════════╧═════════════╧════════════╛\n"
     ]
    }
   ],
   "source": [
    "# random_state = 705\n",
    "X = Data_scaled_pandas[['test', 'T', 'E']]\n",
    "y = Data_scaled_pandas['Smax']\n",
    "X_train, X_test, y_train, y_test = train_test_split(X,y, random_state=705)\n",
    "\n",
    "\n",
    "lr = LinearRegression().fit(X_train,y_train)\n",
    "\n",
    "datos_tabla12 = [705, lr.coef_, lr.intercept_, lr.score(X_train,y_train), lr.score(X_test,y_test)]\n",
    "#tabla\n",
    "table = [['random_state', 'test - T - E', 'Intercepto', 'R^2 train', 'R^2 test'], \n",
    "         [705, lr.coef_, lr.intercept_, lr.score(X_train,y_train), lr.score(X_test,y_test)]]\n",
    "print(tabulate(table, headers='firstrow', tablefmt='fancy_grid'))"
   ]
  },
  {
   "cell_type": "code",
   "execution_count": 17,
   "id": "7aafdb0f",
   "metadata": {},
   "outputs": [
    {
     "name": "stdout",
     "output_type": "stream",
     "text": [
      "╒════════════════╤═══════════════════════════════════════╤══════════════╤═════════════╤════════════╕\n",
      "│   random_state │ test - T - E                          │   Intercepto │   R^2 train │   R^2 test │\n",
      "╞════════════════╪═══════════════════════════════════════╪══════════════╪═════════════╪════════════╡\n",
      "│            119 │ [-0.02481208  0.58836572 -0.24724659] │     0.433994 │    0.362991 │  0.0169147 │\n",
      "╘════════════════╧═══════════════════════════════════════╧══════════════╧═════════════╧════════════╛\n"
     ]
    }
   ],
   "source": [
    "# random_state = 119\n",
    "X = Data_scaled_pandas[['test', 'T', 'E']]\n",
    "y = Data_scaled_pandas['Smax']\n",
    "X_train, X_test, y_train, y_test = train_test_split(X,y, random_state=119)\n",
    "\n",
    "\n",
    "lr = LinearRegression().fit(X_train,y_train)\n",
    "\n",
    "datos_tabla13 = [119, lr.coef_, lr.intercept_, lr.score(X_train,y_train), lr.score(X_test,y_test)]\n",
    "#tabla\n",
    "table = [['random_state', 'test - T - E', 'Intercepto', 'R^2 train', 'R^2 test'], \n",
    "         [119, lr.coef_, lr.intercept_, lr.score(X_train,y_train), lr.score(X_test,y_test)]]\n",
    "print(tabulate(table, headers='firstrow', tablefmt='fancy_grid'))"
   ]
  },
  {
   "cell_type": "code",
   "execution_count": 18,
   "id": "10c85431",
   "metadata": {},
   "outputs": [
    {
     "name": "stdout",
     "output_type": "stream",
     "text": [
      "╒════════════════╤═══════════════════════════════════════╤══════════════╤═════════════╤════════════╕\n",
      "│   random_state │ test - T - E                          │   Intercepto │   R^2 train │   R^2 test │\n",
      "╞════════════════╪═══════════════════════════════════════╪══════════════╪═════════════╪════════════╡\n",
      "│            366 │ [-0.04284584  0.49673206 -0.24589808] │     0.458068 │    0.213929 │   0.375914 │\n",
      "╘════════════════╧═══════════════════════════════════════╧══════════════╧═════════════╧════════════╛\n"
     ]
    }
   ],
   "source": [
    "# random_state = 366\n",
    "X = Data_scaled_pandas[['test', 'T', 'E']]\n",
    "y = Data_scaled_pandas['Smax']\n",
    "X_train, X_test, y_train, y_test = train_test_split(X,y, random_state=366)\n",
    "\n",
    "\n",
    "lr = LinearRegression().fit(X_train,y_train)\n",
    "\n",
    "datos_tabla14 = [366, lr.coef_, lr.intercept_, lr.score(X_train,y_train), lr.score(X_test,y_test)]\n",
    "#tabla\n",
    "table = [['random_state', 'test - T - E', 'Intercepto', 'R^2 train', 'R^2 test'], \n",
    "         [366, lr.coef_, lr.intercept_, lr.score(X_train,y_train), lr.score(X_test,y_test)]]\n",
    "print(tabulate(table, headers='firstrow', tablefmt='fancy_grid'))"
   ]
  },
  {
   "cell_type": "code",
   "execution_count": 19,
   "id": "84835ee2",
   "metadata": {},
   "outputs": [
    {
     "name": "stdout",
     "output_type": "stream",
     "text": [
      "╒════════════════╤═══════════════════════════════════════╤══════════════╤═════════════╤════════════╕\n",
      "│   random_state │ test - T - E                          │   Intercepto │   R^2 train │   R^2 test │\n",
      "╞════════════════╪═══════════════════════════════════════╪══════════════╪═════════════╪════════════╡\n",
      "│           1236 │ [-0.0460527   0.04497519 -0.24996569] │      0.47204 │    0.125504 │   0.141415 │\n",
      "╘════════════════╧═══════════════════════════════════════╧══════════════╧═════════════╧════════════╛\n"
     ]
    }
   ],
   "source": [
    "# random_state = 1236\n",
    "X = Data_scaled_pandas[['test', 'T', 'E']]\n",
    "y = Data_scaled_pandas['Smax']\n",
    "X_train, X_test, y_train, y_test = train_test_split(X,y, random_state=1236)\n",
    "\n",
    "\n",
    "lr = LinearRegression().fit(X_train,y_train)\n",
    "\n",
    "datos_tabla15 = [1236, lr.coef_, lr.intercept_, lr.score(X_train,y_train), lr.score(X_test,y_test)]\n",
    "#tabla\n",
    "table = [['random_state', 'test - T - E', 'Intercepto', 'R^2 train', 'R^2 test'], \n",
    "         [1236, lr.coef_, lr.intercept_, lr.score(X_train,y_train), lr.score(X_test,y_test)]]\n",
    "print(tabulate(table, headers='firstrow', tablefmt='fancy_grid'))"
   ]
  },
  {
   "cell_type": "code",
   "execution_count": 20,
   "id": "8605aa95",
   "metadata": {},
   "outputs": [
    {
     "name": "stdout",
     "output_type": "stream",
     "text": [
      "╒════════════════╤═══════════════════════════════════════╤══════════════╤═════════════╤════════════╕\n",
      "│   random_state │ test - T - E                          │   Intercepto │   R^2 train │   R^2 test │\n",
      "╞════════════════╪═══════════════════════════════════════╪══════════════╪═════════════╪════════════╡\n",
      "│           2298 │ [-0.00840754  0.58298837 -0.20979699] │     0.420601 │    0.328281 │  0.0759738 │\n",
      "╘════════════════╧═══════════════════════════════════════╧══════════════╧═════════════╧════════════╛\n"
     ]
    }
   ],
   "source": [
    "# random_state = 2298\n",
    "X = Data_scaled_pandas[['test', 'T', 'E']]\n",
    "y = Data_scaled_pandas['Smax']\n",
    "X_train, X_test, y_train, y_test = train_test_split(X,y, random_state=2298)\n",
    "\n",
    "\n",
    "lr = LinearRegression().fit(X_train,y_train)\n",
    "\n",
    "datos_tabla16 = [2298, lr.coef_, lr.intercept_, lr.score(X_train,y_train), lr.score(X_test,y_test)]\n",
    "#tabla\n",
    "table = [['random_state', 'test - T - E', 'Intercepto', 'R^2 train', 'R^2 test'], \n",
    "         [2298, lr.coef_, lr.intercept_, lr.score(X_train,y_train), lr.score(X_test,y_test)]]\n",
    "print(tabulate(table, headers='firstrow', tablefmt='fancy_grid'))"
   ]
  },
  {
   "cell_type": "code",
   "execution_count": 21,
   "id": "e3bcb44a",
   "metadata": {},
   "outputs": [
    {
     "name": "stdout",
     "output_type": "stream",
     "text": [
      "╒════════════════╤═══════════════════════════════════════╤══════════════╤═════════════╤════════════╕\n",
      "│   random_state │ test - T - E                          │   Intercepto │   R^2 train │   R^2 test │\n",
      "╞════════════════╪═══════════════════════════════════════╪══════════════╪═════════════╪════════════╡\n",
      "│           2396 │ [-0.0563634   0.54970464 -0.20573668] │     0.453254 │    0.186949 │   0.444938 │\n",
      "╘════════════════╧═══════════════════════════════════════╧══════════════╧═════════════╧════════════╛\n"
     ]
    }
   ],
   "source": [
    "# random_state = 2396\n",
    "X = Data_scaled_pandas[['test', 'T', 'E']]\n",
    "y = Data_scaled_pandas['Smax']\n",
    "X_train, X_test, y_train, y_test = train_test_split(X,y, random_state=2396)\n",
    "\n",
    "\n",
    "lr = LinearRegression().fit(X_train,y_train)\n",
    "\n",
    "datos_tabla17 = [2396, lr.coef_, lr.intercept_, lr.score(X_train,y_train), lr.score(X_test,y_test)]\n",
    "#tabla\n",
    "table = [['random_state', 'test - T - E', 'Intercepto', 'R^2 train', 'R^2 test'], \n",
    "         [2396, lr.coef_, lr.intercept_, lr.score(X_train,y_train), lr.score(X_test,y_test)]]\n",
    "print(tabulate(table, headers='firstrow', tablefmt='fancy_grid'))"
   ]
  },
  {
   "cell_type": "code",
   "execution_count": 22,
   "id": "293638db",
   "metadata": {},
   "outputs": [
    {
     "name": "stdout",
     "output_type": "stream",
     "text": [
      "╒════════════════╤═══════════════════════════════════════╤══════════════╤═════════════╤════════════╕\n",
      "│   random_state │ test - T - E                          │   Intercepto │   R^2 train │   R^2 test │\n",
      "╞════════════════╪═══════════════════════════════════════╪══════════════╪═════════════╪════════════╡\n",
      "│            543 │ [-0.0401588   0.5759521  -0.17705219] │     0.436107 │     0.27944 │    0.18639 │\n",
      "╘════════════════╧═══════════════════════════════════════╧══════════════╧═════════════╧════════════╛\n"
     ]
    }
   ],
   "source": [
    "# random_state = 543\n",
    "X = Data_scaled_pandas[['test', 'T', 'E']]\n",
    "y = Data_scaled_pandas['Smax']\n",
    "X_train, X_test, y_train, y_test = train_test_split(X,y, random_state=543)\n",
    "\n",
    "\n",
    "lr = LinearRegression().fit(X_train,y_train)\n",
    "\n",
    "datos_tabla18 = [543, lr.coef_, lr.intercept_, lr.score(X_train,y_train), lr.score(X_test,y_test)]\n",
    "#tabla\n",
    "table = [['random_state', 'test - T - E', 'Intercepto', 'R^2 train', 'R^2 test'], \n",
    "         [543, lr.coef_, lr.intercept_, lr.score(X_train,y_train), lr.score(X_test,y_test)]]\n",
    "print(tabulate(table, headers='firstrow', tablefmt='fancy_grid'))"
   ]
  },
  {
   "cell_type": "code",
   "execution_count": 23,
   "id": "e5c96ea2",
   "metadata": {},
   "outputs": [
    {
     "name": "stdout",
     "output_type": "stream",
     "text": [
      "╒════════════════╤═══════════════════════════════════════╤══════════════╤═════════════╤════════════╕\n",
      "│   random_state │ test - T - E                          │   Intercepto │   R^2 train │   R^2 test │\n",
      "╞════════════════╪═══════════════════════════════════════╪══════════════╪═════════════╪════════════╡\n",
      "│            777 │ [-0.04303638  0.55174565 -0.24164028] │     0.446515 │     0.27293 │   0.212135 │\n",
      "╘════════════════╧═══════════════════════════════════════╧══════════════╧═════════════╧════════════╛\n"
     ]
    }
   ],
   "source": [
    "# random_state = 777\n",
    "X = Data_scaled_pandas[['test', 'T', 'E']]\n",
    "y = Data_scaled_pandas['Smax']\n",
    "X_train, X_test, y_train, y_test = train_test_split(X,y, random_state=777)\n",
    "\n",
    "\n",
    "lr = LinearRegression().fit(X_train,y_train)\n",
    "\n",
    "datos_tabla19 = [777, lr.coef_, lr.intercept_, lr.score(X_train,y_train), lr.score(X_test,y_test)]\n",
    "#tabla\n",
    "table = [['random_state', 'test - T - E', 'Intercepto', 'R^2 train', 'R^2 test'], \n",
    "         [777, lr.coef_, lr.intercept_, lr.score(X_train,y_train), lr.score(X_test,y_test)]]\n",
    "print(tabulate(table, headers='firstrow', tablefmt='fancy_grid'))"
   ]
  },
  {
   "cell_type": "code",
   "execution_count": 24,
   "id": "09507a50",
   "metadata": {},
   "outputs": [
    {
     "name": "stdout",
     "output_type": "stream",
     "text": [
      "╒════════════════╤═══════════════════════════════════════╤══════════════╤═════════════╤════════════╕\n",
      "│   random_state │ test - T - E                          │   Intercepto │   R^2 train │   R^2 test │\n",
      "╞════════════════╪═══════════════════════════════════════╪══════════════╪═════════════╪════════════╡\n",
      "│           9853 │ [-0.03993651  0.53995308 -0.29435475] │     0.469249 │    0.290386 │ -0.0105668 │\n",
      "╘════════════════╧═══════════════════════════════════════╧══════════════╧═════════════╧════════════╛\n"
     ]
    }
   ],
   "source": [
    "# random_state = 9853\n",
    "X = Data_scaled_pandas[['test', 'T', 'E']]\n",
    "y = Data_scaled_pandas['Smax']\n",
    "X_train, X_test, y_train, y_test = train_test_split(X,y, random_state=9853)\n",
    "\n",
    "\n",
    "lr = LinearRegression().fit(X_train,y_train)\n",
    "\n",
    "datos_tabla20 = [9853, lr.coef_, lr.intercept_, lr.score(X_train,y_train), lr.score(X_test,y_test)]\n",
    "#tabla\n",
    "table = [['random_state', 'test - T - E', 'Intercepto', 'R^2 train', 'R^2 test'], \n",
    "         [9853, lr.coef_, lr.intercept_, lr.score(X_train,y_train), lr.score(X_test,y_test)]]\n",
    "print(tabulate(table, headers='firstrow', tablefmt='fancy_grid'))"
   ]
  },
  {
   "cell_type": "markdown",
   "id": "f10a04ec",
   "metadata": {},
   "source": [
    "# Resumen (test, T, E) y 10 random_state"
   ]
  },
  {
   "cell_type": "code",
   "execution_count": 25,
   "id": "e0ec5783",
   "metadata": {},
   "outputs": [
    {
     "name": "stdout",
     "output_type": "stream",
     "text": [
      "╒════╤════════════════╤═══════════════════════════════════════╤══════════════╤═════════════╤════════════╕\n",
      "│    │   random_state │ test - T - E                          │   Intercepto │   R^2 train │   R^2 test │\n",
      "╞════╪════════════════╪═══════════════════════════════════════╪══════════════╪═════════════╪════════════╡\n",
      "│  0 │             45 │ [-0.04034491  0.14336388 -0.31670197] │     0.477001 │    0.180778 │  0.113325  │\n",
      "├────┼────────────────┼───────────────────────────────────────┼──────────────┼─────────────┼────────────┤\n",
      "│  1 │            705 │ [-0.06264426  0.55304035 -0.22296108] │     0.457952 │    0.299196 │  0.10668   │\n",
      "├────┼────────────────┼───────────────────────────────────────┼──────────────┼─────────────┼────────────┤\n",
      "│  2 │            119 │ [-0.02481208  0.58836572 -0.24724659] │     0.433994 │    0.362991 │  0.0169147 │\n",
      "├────┼────────────────┼───────────────────────────────────────┼──────────────┼─────────────┼────────────┤\n",
      "│  3 │            366 │ [-0.04284584  0.49673206 -0.24589808] │     0.458068 │    0.213929 │  0.375914  │\n",
      "├────┼────────────────┼───────────────────────────────────────┼──────────────┼─────────────┼────────────┤\n",
      "│  4 │           1236 │ [-0.0460527   0.04497519 -0.24996569] │     0.47204  │    0.125504 │  0.141415  │\n",
      "├────┼────────────────┼───────────────────────────────────────┼──────────────┼─────────────┼────────────┤\n",
      "│  5 │           2298 │ [-0.00840754  0.58298837 -0.20979699] │     0.420601 │    0.328281 │  0.0759738 │\n",
      "├────┼────────────────┼───────────────────────────────────────┼──────────────┼─────────────┼────────────┤\n",
      "│  6 │           2396 │ [-0.0563634   0.54970464 -0.20573668] │     0.453254 │    0.186949 │  0.444938  │\n",
      "├────┼────────────────┼───────────────────────────────────────┼──────────────┼─────────────┼────────────┤\n",
      "│  7 │            543 │ [-0.0401588   0.5759521  -0.17705219] │     0.436107 │    0.27944  │  0.18639   │\n",
      "├────┼────────────────┼───────────────────────────────────────┼──────────────┼─────────────┼────────────┤\n",
      "│  8 │            777 │ [-0.04303638  0.55174565 -0.24164028] │     0.446515 │    0.27293  │  0.212135  │\n",
      "├────┼────────────────┼───────────────────────────────────────┼──────────────┼─────────────┼────────────┤\n",
      "│  9 │           9853 │ [-0.03993651  0.53995308 -0.29435475] │     0.469249 │    0.290386 │ -0.0105668 │\n",
      "╘════╧════════════════╧═══════════════════════════════════════╧══════════════╧═════════════╧════════════╛\n"
     ]
    }
   ],
   "source": [
    "headers = ['random_state', 'test - T - E', 'Intercepto', 'R^2 train', 'R^2 test']\n",
    "tabla_resumen2 = [headers, datos_tabla11, datos_tabla12, datos_tabla13, datos_tabla14, datos_tabla15, \n",
    "                 datos_tabla16, datos_tabla17, datos_tabla18, datos_tabla19, datos_tabla20]\n",
    "print(tabulate(tabla_resumen2, headers='firstrow', showindex=True, tablefmt='fancy_grid'))"
   ]
  },
  {
   "cell_type": "markdown",
   "id": "491d4614",
   "metadata": {},
   "source": [
    "# Variables independientes = T, E"
   ]
  },
  {
   "cell_type": "code",
   "execution_count": 26,
   "id": "610d316a",
   "metadata": {},
   "outputs": [
    {
     "name": "stdout",
     "output_type": "stream",
     "text": [
      "╒════════════════╤═══════════════════════════╤══════════════╤═════════════╤════════════╕\n",
      "│   random_state │ T - E                     │   Intercepto │   R^2 train │   R^2 test │\n",
      "╞════════════════╪═══════════════════════════╪══════════════╪═════════════╪════════════╡\n",
      "│            999 │ [ 0.54426637 -0.23663487] │     0.422143 │    0.210411 │    0.31346 │\n",
      "╘════════════════╧═══════════════════════════╧══════════════╧═════════════╧════════════╛\n"
     ]
    }
   ],
   "source": [
    "# random_state = 999\n",
    "X = Data_scaled_pandas[['T', 'E']]\n",
    "y = Data_scaled_pandas['Smax']\n",
    "X_train, X_test, y_train, y_test = train_test_split(X,y, random_state=999)\n",
    "\n",
    "\n",
    "lr = LinearRegression().fit(X_train,y_train)\n",
    "\n",
    "datos_tabla21 = [999, lr.coef_, lr.intercept_, lr.score(X_train,y_train), lr.score(X_test,y_test)]\n",
    "#tabla\n",
    "table = [['random_state', 'T - E', 'Intercepto', 'R^2 train', 'R^2 test'], \n",
    "         [999, lr.coef_, lr.intercept_, lr.score(X_train,y_train), lr.score(X_test,y_test)]]\n",
    "print(tabulate(table, headers='firstrow', tablefmt='fancy_grid'))"
   ]
  },
  {
   "cell_type": "code",
   "execution_count": 27,
   "id": "2e70afde",
   "metadata": {},
   "outputs": [
    {
     "name": "stdout",
     "output_type": "stream",
     "text": [
      "╒════════════════╤═══════════════════════════╤══════════════╤═════════════╤════════════╕\n",
      "│   random_state │ T - E                     │   Intercepto │   R^2 train │   R^2 test │\n",
      "╞════════════════╪═══════════════════════════╪══════════════╪═════════════╪════════════╡\n",
      "│            506 │ [ 0.50788005 -0.23647038] │     0.434079 │     0.20829 │   0.335129 │\n",
      "╘════════════════╧═══════════════════════════╧══════════════╧═════════════╧════════════╛\n"
     ]
    }
   ],
   "source": [
    "# random_state = 506\n",
    "X = Data_scaled_pandas[['T', 'E']]\n",
    "y = Data_scaled_pandas['Smax']\n",
    "X_train, X_test, y_train, y_test = train_test_split(X,y, random_state=506)\n",
    "\n",
    "\n",
    "lr = LinearRegression().fit(X_train,y_train)\n",
    "\n",
    "datos_tabla22 = [506, lr.coef_, lr.intercept_, lr.score(X_train,y_train), lr.score(X_test,y_test)]\n",
    "#tabla\n",
    "table = [['random_state', 'T - E', 'Intercepto', 'R^2 train', 'R^2 test'], \n",
    "         [506, lr.coef_, lr.intercept_, lr.score(X_train,y_train), lr.score(X_test,y_test)]]\n",
    "print(tabulate(table, headers='firstrow', tablefmt='fancy_grid'))"
   ]
  },
  {
   "cell_type": "code",
   "execution_count": 28,
   "id": "22863d41",
   "metadata": {},
   "outputs": [
    {
     "name": "stdout",
     "output_type": "stream",
     "text": [
      "╒════════════════╤═══════════════════════════╤══════════════╤═════════════╤════════════╕\n",
      "│   random_state │ T - E                     │   Intercepto │   R^2 train │   R^2 test │\n",
      "╞════════════════╪═══════════════════════════╪══════════════╪═════════════╪════════════╡\n",
      "│            245 │ [ 0.55053965 -0.25080223] │     0.429042 │    0.299649 │  0.0992376 │\n",
      "╘════════════════╧═══════════════════════════╧══════════════╧═════════════╧════════════╛\n"
     ]
    }
   ],
   "source": [
    "# random_state = 245\n",
    "X = Data_scaled_pandas[['T', 'E']]\n",
    "y = Data_scaled_pandas['Smax']\n",
    "X_train, X_test, y_train, y_test = train_test_split(X,y, random_state=245)\n",
    "\n",
    "\n",
    "lr = LinearRegression().fit(X_train,y_train)\n",
    "\n",
    "datos_tabla23 = [245, lr.coef_, lr.intercept_, lr.score(X_train,y_train), lr.score(X_test,y_test)]\n",
    "#tabla\n",
    "table = [['random_state', 'T - E', 'Intercepto', 'R^2 train', 'R^2 test'], \n",
    "         [245, lr.coef_, lr.intercept_, lr.score(X_train,y_train), lr.score(X_test,y_test)]]\n",
    "print(tabulate(table, headers='firstrow', tablefmt='fancy_grid'))"
   ]
  },
  {
   "cell_type": "code",
   "execution_count": 29,
   "id": "4d139bfa",
   "metadata": {},
   "outputs": [
    {
     "name": "stdout",
     "output_type": "stream",
     "text": [
      "╒════════════════╤═══════════════════════════╤══════════════╤═════════════╤════════════╕\n",
      "│   random_state │ T - E                     │   Intercepto │   R^2 train │   R^2 test │\n",
      "╞════════════════╪═══════════════════════════╪══════════════╪═════════════╪════════════╡\n",
      "│           4112 │ [ 0.50797582 -0.25902744] │     0.434008 │    0.202685 │   0.403777 │\n",
      "╘════════════════╧═══════════════════════════╧══════════════╧═════════════╧════════════╛\n"
     ]
    }
   ],
   "source": [
    "# random_state = 4112\n",
    "X = Data_scaled_pandas[['T', 'E']]\n",
    "y = Data_scaled_pandas['Smax']\n",
    "X_train, X_test, y_train, y_test = train_test_split(X,y, random_state=4112)\n",
    "\n",
    "\n",
    "lr = LinearRegression().fit(X_train,y_train)\n",
    "\n",
    "datos_tabla24 = [4112, lr.coef_, lr.intercept_, lr.score(X_train,y_train), lr.score(X_test,y_test)]\n",
    "#tabla\n",
    "table = [['random_state', 'T - E', 'Intercepto', 'R^2 train', 'R^2 test'], \n",
    "         [4112, lr.coef_, lr.intercept_, lr.score(X_train,y_train), lr.score(X_test,y_test)]]\n",
    "print(tabulate(table, headers='firstrow', tablefmt='fancy_grid'))"
   ]
  },
  {
   "cell_type": "code",
   "execution_count": 30,
   "id": "334116bb",
   "metadata": {},
   "outputs": [
    {
     "name": "stdout",
     "output_type": "stream",
     "text": [
      "╒════════════════╤═══════════════════════════╤══════════════╤═════════════╤════════════╕\n",
      "│   random_state │ T - E                     │   Intercepto │   R^2 train │   R^2 test │\n",
      "╞════════════════╪═══════════════════════════╪══════════════╪═════════════╪════════════╡\n",
      "│            911 │ [ 0.51459711 -0.18792023] │     0.420064 │    0.186879 │   0.339563 │\n",
      "╘════════════════╧═══════════════════════════╧══════════════╧═════════════╧════════════╛\n"
     ]
    }
   ],
   "source": [
    "# random_state = 911\n",
    "X = Data_scaled_pandas[['T', 'E']]\n",
    "y = Data_scaled_pandas['Smax']\n",
    "X_train, X_test, y_train, y_test = train_test_split(X,y, random_state=911)\n",
    "\n",
    "\n",
    "lr = LinearRegression().fit(X_train,y_train)\n",
    "\n",
    "datos_tabla25 = [911, lr.coef_, lr.intercept_, lr.score(X_train,y_train), lr.score(X_test,y_test)]\n",
    "#tabla\n",
    "table = [['random_state', 'T - E', 'Intercepto', 'R^2 train', 'R^2 test'], \n",
    "         [911, lr.coef_, lr.intercept_, lr.score(X_train,y_train), lr.score(X_test,y_test)]]\n",
    "print(tabulate(table, headers='firstrow', tablefmt='fancy_grid'))"
   ]
  },
  {
   "cell_type": "code",
   "execution_count": 31,
   "id": "9f2d8cb6",
   "metadata": {},
   "outputs": [
    {
     "name": "stdout",
     "output_type": "stream",
     "text": [
      "╒════════════════╤═══════════════════════════╤══════════════╤═════════════╤════════════╕\n",
      "│   random_state │ T - E                     │   Intercepto │   R^2 train │   R^2 test │\n",
      "╞════════════════╪═══════════════════════════╪══════════════╪═════════════╪════════════╡\n",
      "│            496 │ [ 0.52157399 -0.26932787] │     0.447276 │    0.199224 │   0.490716 │\n",
      "╘════════════════╧═══════════════════════════╧══════════════╧═════════════╧════════════╛\n"
     ]
    }
   ],
   "source": [
    "# random_state = 496\n",
    "X = Data_scaled_pandas[['T', 'E']]\n",
    "y = Data_scaled_pandas['Smax']\n",
    "X_train, X_test, y_train, y_test = train_test_split(X,y, random_state=496)\n",
    "\n",
    "\n",
    "lr = LinearRegression().fit(X_train,y_train)\n",
    "\n",
    "datos_tabla26 = [496, lr.coef_, lr.intercept_, lr.score(X_train,y_train), lr.score(X_test,y_test)]\n",
    "#tabla\n",
    "table = [['random_state', 'T - E', 'Intercepto', 'R^2 train', 'R^2 test'], \n",
    "         [496, lr.coef_, lr.intercept_, lr.score(X_train,y_train), lr.score(X_test,y_test)]]\n",
    "print(tabulate(table, headers='firstrow', tablefmt='fancy_grid'))"
   ]
  },
  {
   "cell_type": "markdown",
   "id": "abd758ce",
   "metadata": {},
   "source": [
    "# Resumen (T, E) y 6 random_state"
   ]
  },
  {
   "cell_type": "code",
   "execution_count": 32,
   "id": "153df355",
   "metadata": {
    "scrolled": true
   },
   "outputs": [
    {
     "name": "stdout",
     "output_type": "stream",
     "text": [
      "╒════╤════════════════╤═══════════════════════════╤══════════════╤═════════════╤════════════╕\n",
      "│    │   random_state │ T - E                     │   Intercepto │   R^2 train │   R^2 test │\n",
      "╞════╪════════════════╪═══════════════════════════╪══════════════╪═════════════╪════════════╡\n",
      "│  0 │            999 │ [ 0.54426637 -0.23663487] │     0.422143 │    0.210411 │  0.31346   │\n",
      "├────┼────────────────┼───────────────────────────┼──────────────┼─────────────┼────────────┤\n",
      "│  1 │            506 │ [ 0.50788005 -0.23647038] │     0.434079 │    0.20829  │  0.335129  │\n",
      "├────┼────────────────┼───────────────────────────┼──────────────┼─────────────┼────────────┤\n",
      "│  2 │            245 │ [ 0.55053965 -0.25080223] │     0.429042 │    0.299649 │  0.0992376 │\n",
      "├────┼────────────────┼───────────────────────────┼──────────────┼─────────────┼────────────┤\n",
      "│  3 │           4112 │ [ 0.50797582 -0.25902744] │     0.434008 │    0.202685 │  0.403777  │\n",
      "├────┼────────────────┼───────────────────────────┼──────────────┼─────────────┼────────────┤\n",
      "│  4 │            911 │ [ 0.51459711 -0.18792023] │     0.420064 │    0.186879 │  0.339563  │\n",
      "├────┼────────────────┼───────────────────────────┼──────────────┼─────────────┼────────────┤\n",
      "│  5 │            496 │ [ 0.52157399 -0.26932787] │     0.447276 │    0.199224 │  0.490716  │\n",
      "╘════╧════════════════╧═══════════════════════════╧══════════════╧═════════════╧════════════╛\n"
     ]
    }
   ],
   "source": [
    "headers = ['random_state', 'T - E', 'Intercepto', 'R^2 train', 'R^2 test']\n",
    "tabla_resumen3 = [headers, datos_tabla21, datos_tabla22, datos_tabla23, datos_tabla24, datos_tabla25, \n",
    "                 datos_tabla26]\n",
    "print(tabulate(tabla_resumen3, headers='firstrow', showindex = True, tablefmt='fancy_grid'))"
   ]
  },
  {
   "cell_type": "markdown",
   "id": "602a30f7",
   "metadata": {},
   "source": [
    "# Variables independientes = Srate, T, E"
   ]
  },
  {
   "cell_type": "code",
   "execution_count": 33,
   "id": "c5bd1b33",
   "metadata": {},
   "outputs": [
    {
     "name": "stdout",
     "output_type": "stream",
     "text": [
      "╒════════════════╤═══════════════════════════════════════╤══════════════╤═════════════╤════════════╕\n",
      "│   random_state │ Srate - T - E                         │   Intercepto │   R^2 train │   R^2 test │\n",
      "╞════════════════╪═══════════════════════════════════════╪══════════════╪═════════════╪════════════╡\n",
      "│           2345 │ [ 0.07788038  0.49453175 -0.25086331] │     0.428345 │    0.311724 │   0.107784 │\n",
      "╘════════════════╧═══════════════════════════════════════╧══════════════╧═════════════╧════════════╛\n"
     ]
    }
   ],
   "source": [
    "# random_state = 2345\n",
    "X = Data_scaled_pandas[['Srate', 'T', 'E']]\n",
    "y = Data_scaled_pandas['Smax']\n",
    "X_train, X_test, y_train, y_test = train_test_split(X,y, random_state=2345)\n",
    "\n",
    "\n",
    "lr = LinearRegression().fit(X_train,y_train)\n",
    "\n",
    "datos_tabla31 = [2345, lr.coef_, lr.intercept_, lr.score(X_train,y_train), lr.score(X_test,y_test)]\n",
    "#tabla\n",
    "table = [['random_state', 'Srate - T - E', 'Intercepto', 'R^2 train', 'R^2 test'], \n",
    "         [2345, lr.coef_, lr.intercept_, lr.score(X_train,y_train), lr.score(X_test,y_test)]]\n",
    "print(tabulate(table, headers='firstrow', tablefmt='fancy_grid'))"
   ]
  },
  {
   "cell_type": "code",
   "execution_count": 34,
   "id": "e3f3f4ff",
   "metadata": {},
   "outputs": [
    {
     "name": "stdout",
     "output_type": "stream",
     "text": [
      "╒════════════════╤═══════════════════════════════════════╤══════════════╤═════════════╤════════════╕\n",
      "│   random_state │ Srate - T - E                         │   Intercepto │   R^2 train │   R^2 test │\n",
      "╞════════════════╪═══════════════════════════════════════╪══════════════╪═════════════╪════════════╡\n",
      "│            112 │ [ 0.05423104  0.52746294 -0.29665317] │      0.44691 │    0.149646 │    0.57068 │\n",
      "╘════════════════╧═══════════════════════════════════════╧══════════════╧═════════════╧════════════╛\n"
     ]
    }
   ],
   "source": [
    "# random_state = 112\n",
    "X = Data_scaled_pandas[['Srate', 'T', 'E']]\n",
    "y = Data_scaled_pandas['Smax']\n",
    "X_train, X_test, y_train, y_test = train_test_split(X,y, random_state=112)\n",
    "\n",
    "\n",
    "lr = LinearRegression().fit(X_train,y_train)\n",
    "\n",
    "datos_tabla32 = [112, lr.coef_, lr.intercept_, lr.score(X_train,y_train), lr.score(X_test,y_test)]\n",
    "#tabla\n",
    "table = [['random_state', 'Srate - T - E', 'Intercepto', 'R^2 train', 'R^2 test'], \n",
    "         [112, lr.coef_, lr.intercept_, lr.score(X_train,y_train), lr.score(X_test,y_test)]]\n",
    "print(tabulate(table, headers='firstrow', tablefmt='fancy_grid'))"
   ]
  },
  {
   "cell_type": "code",
   "execution_count": 35,
   "id": "c3c700f0",
   "metadata": {},
   "outputs": [
    {
     "name": "stdout",
     "output_type": "stream",
     "text": [
      "╒════════════════╤═══════════════════════════════════════╤══════════════╤═════════════╤════════════╕\n",
      "│   random_state │ Srate - T - E                         │   Intercepto │   R^2 train │   R^2 test │\n",
      "╞════════════════╪═══════════════════════════════════════╪══════════════╪═════════════╪════════════╡\n",
      "│           5256 │ [ 0.03107054  0.53112243 -0.27133191] │     0.432922 │    0.286663 │  0.0961984 │\n",
      "╘════════════════╧═══════════════════════════════════════╧══════════════╧═════════════╧════════════╛\n"
     ]
    }
   ],
   "source": [
    "# random_state = 5256\n",
    "X = Data_scaled_pandas[['Srate', 'T', 'E']]\n",
    "y = Data_scaled_pandas['Smax']\n",
    "X_train, X_test, y_train, y_test = train_test_split(X,y, random_state=5256)\n",
    "\n",
    "\n",
    "lr = LinearRegression().fit(X_train,y_train)\n",
    "\n",
    "datos_tabla33 = [5256, lr.coef_, lr.intercept_, lr.score(X_train,y_train), lr.score(X_test,y_test)]\n",
    "#tabla\n",
    "table = [['random_state', 'Srate - T - E', 'Intercepto', 'R^2 train', 'R^2 test'], \n",
    "         [5256, lr.coef_, lr.intercept_, lr.score(X_train,y_train), lr.score(X_test,y_test)]]\n",
    "print(tabulate(table, headers='firstrow', tablefmt='fancy_grid'))"
   ]
  },
  {
   "cell_type": "code",
   "execution_count": 36,
   "id": "5aedb113",
   "metadata": {},
   "outputs": [
    {
     "name": "stdout",
     "output_type": "stream",
     "text": [
      "╒════════════════╤═══════════════════════════════════════╤══════════════╤═════════════╤════════════╕\n",
      "│   random_state │ Srate - T - E                         │   Intercepto │   R^2 train │   R^2 test │\n",
      "╞════════════════╪═══════════════════════════════════════╪══════════════╪═════════════╪════════════╡\n",
      "│           9896 │ [ 0.04127794  0.46957414 -0.28635318] │     0.440151 │    0.242688 │   0.275805 │\n",
      "╘════════════════╧═══════════════════════════════════════╧══════════════╧═════════════╧════════════╛\n"
     ]
    }
   ],
   "source": [
    "# random_state = 9896\n",
    "X = Data_scaled_pandas[['Srate', 'T', 'E']]\n",
    "y = Data_scaled_pandas['Smax']\n",
    "X_train, X_test, y_train, y_test = train_test_split(X,y, random_state=9896)\n",
    "\n",
    "\n",
    "lr = LinearRegression().fit(X_train,y_train)\n",
    "\n",
    "datos_tabla34 = [9896, lr.coef_, lr.intercept_, lr.score(X_train,y_train), lr.score(X_test,y_test)]\n",
    "#tabla\n",
    "table = [['random_state', 'Srate - T - E', 'Intercepto', 'R^2 train', 'R^2 test'], \n",
    "         [9896, lr.coef_, lr.intercept_, lr.score(X_train,y_train), lr.score(X_test,y_test)]]\n",
    "print(tabulate(table, headers='firstrow', tablefmt='fancy_grid'))"
   ]
  },
  {
   "cell_type": "code",
   "execution_count": 37,
   "id": "836d9577",
   "metadata": {},
   "outputs": [
    {
     "name": "stdout",
     "output_type": "stream",
     "text": [
      "╒════════════════╤═══════════════════════════════════════╤══════════════╤═════════════╤════════════╕\n",
      "│   random_state │ Srate - T - E                         │   Intercepto │   R^2 train │   R^2 test │\n",
      "╞════════════════╪═══════════════════════════════════════╪══════════════╪═════════════╪════════════╡\n",
      "│           7623 │ [ 0.02593096  0.53615825 -0.21398742] │     0.417396 │    0.234028 │   0.284023 │\n",
      "╘════════════════╧═══════════════════════════════════════╧══════════════╧═════════════╧════════════╛\n"
     ]
    }
   ],
   "source": [
    "# random_state = 7623\n",
    "X = Data_scaled_pandas[['Srate', 'T', 'E']]\n",
    "y = Data_scaled_pandas['Smax']\n",
    "X_train, X_test, y_train, y_test = train_test_split(X,y, random_state=7623)\n",
    "\n",
    "\n",
    "lr = LinearRegression().fit(X_train,y_train)\n",
    "\n",
    "datos_tabla35 = [7623, lr.coef_, lr.intercept_, lr.score(X_train,y_train), lr.score(X_test,y_test)]\n",
    "#tabla\n",
    "table = [['random_state', 'Srate - T - E', 'Intercepto', 'R^2 train', 'R^2 test'], \n",
    "         [7623, lr.coef_, lr.intercept_, lr.score(X_train,y_train), lr.score(X_test,y_test)]]\n",
    "print(tabulate(table, headers='firstrow', tablefmt='fancy_grid'))"
   ]
  },
  {
   "cell_type": "code",
   "execution_count": 38,
   "id": "fbb35ee1",
   "metadata": {},
   "outputs": [
    {
     "name": "stdout",
     "output_type": "stream",
     "text": [
      "╒════════════════╤═══════════════════════════════════════╤══════════════╤═════════════╤════════════╕\n",
      "│   random_state │ Srate - T - E                         │   Intercepto │   R^2 train │   R^2 test │\n",
      "╞════════════════╪═══════════════════════════════════════╪══════════════╪═════════════╪════════════╡\n",
      "│           6889 │ [ 0.12523797  0.46507398 -0.36213782] │     0.458491 │    0.323197 │  -0.125737 │\n",
      "╘════════════════╧═══════════════════════════════════════╧══════════════╧═════════════╧════════════╛\n"
     ]
    }
   ],
   "source": [
    "# random_state = 6889\n",
    "X = Data_scaled_pandas[['Srate', 'T', 'E']]\n",
    "y = Data_scaled_pandas['Smax']\n",
    "X_train, X_test, y_train, y_test = train_test_split(X,y, random_state=6889)\n",
    "\n",
    "\n",
    "lr = LinearRegression().fit(X_train,y_train)\n",
    "\n",
    "datos_tabla36 = [6889, lr.coef_, lr.intercept_, lr.score(X_train,y_train), lr.score(X_test,y_test)]\n",
    "#tabla\n",
    "table = [['random_state', 'Srate - T - E', 'Intercepto', 'R^2 train', 'R^2 test'], \n",
    "         [6889, lr.coef_, lr.intercept_, lr.score(X_train,y_train), lr.score(X_test,y_test)]]\n",
    "print(tabulate(table, headers='firstrow', tablefmt='fancy_grid'))"
   ]
  },
  {
   "cell_type": "code",
   "execution_count": 39,
   "id": "c3be1136",
   "metadata": {},
   "outputs": [
    {
     "name": "stdout",
     "output_type": "stream",
     "text": [
      "╒════════════════╤═══════════════════════════════════════╤══════════════╤═════════════╤════════════╕\n",
      "│   random_state │ Srate - T - E                         │   Intercepto │   R^2 train │   R^2 test │\n",
      "╞════════════════╪═══════════════════════════════════════╪══════════════╪═════════════╪════════════╡\n",
      "│            262 │ [ 0.04110787  0.52985867 -0.27704458] │     0.423998 │    0.244555 │   0.231917 │\n",
      "╘════════════════╧═══════════════════════════════════════╧══════════════╧═════════════╧════════════╛\n"
     ]
    }
   ],
   "source": [
    "# random_state = 262\n",
    "X = Data_scaled_pandas[['Srate', 'T', 'E']]\n",
    "y = Data_scaled_pandas['Smax']\n",
    "X_train, X_test, y_train, y_test = train_test_split(X,y, random_state=262)\n",
    "\n",
    "\n",
    "lr = LinearRegression().fit(X_train,y_train)\n",
    "\n",
    "datos_tabla37 = [262, lr.coef_, lr.intercept_, lr.score(X_train,y_train), lr.score(X_test,y_test)]\n",
    "#tabla\n",
    "table = [['random_state', 'Srate - T - E', 'Intercepto', 'R^2 train', 'R^2 test'], \n",
    "         [262, lr.coef_, lr.intercept_, lr.score(X_train,y_train), lr.score(X_test,y_test)]]\n",
    "print(tabulate(table, headers='firstrow', tablefmt='fancy_grid'))"
   ]
  },
  {
   "cell_type": "code",
   "execution_count": 40,
   "id": "8e830f08",
   "metadata": {},
   "outputs": [
    {
     "name": "stdout",
     "output_type": "stream",
     "text": [
      "╒════════════════╤═══════════════════════════════════════╤══════════════╤═════════════╤════════════╕\n",
      "│   random_state │ Srate - T - E                         │   Intercepto │   R^2 train │   R^2 test │\n",
      "╞════════════════╪═══════════════════════════════════════╪══════════════╪═════════════╪════════════╡\n",
      "│           3911 │ [ 0.05799236  0.48101774 -0.30297983] │     0.435892 │    0.245467 │   0.300511 │\n",
      "╘════════════════╧═══════════════════════════════════════╧══════════════╧═════════════╧════════════╛\n"
     ]
    }
   ],
   "source": [
    "# random_state = 3911\n",
    "X = Data_scaled_pandas[['Srate', 'T', 'E']]\n",
    "y = Data_scaled_pandas['Smax']\n",
    "X_train, X_test, y_train, y_test = train_test_split(X,y, random_state=3911)\n",
    "\n",
    "\n",
    "lr = LinearRegression().fit(X_train,y_train)\n",
    "\n",
    "datos_tabla38 = [3911, lr.coef_, lr.intercept_, lr.score(X_train,y_train), lr.score(X_test,y_test)]\n",
    "#tabla\n",
    "table = [['random_state', 'Srate - T - E', 'Intercepto', 'R^2 train', 'R^2 test'], \n",
    "         [3911, lr.coef_, lr.intercept_, lr.score(X_train,y_train), lr.score(X_test,y_test)]]\n",
    "print(tabulate(table, headers='firstrow', tablefmt='fancy_grid'))"
   ]
  },
  {
   "cell_type": "markdown",
   "id": "4954d6a9",
   "metadata": {},
   "source": [
    "# Resumen (Srate, T, E) y 8 random_state"
   ]
  },
  {
   "cell_type": "code",
   "execution_count": 41,
   "id": "68d34a57",
   "metadata": {},
   "outputs": [
    {
     "name": "stdout",
     "output_type": "stream",
     "text": [
      "╒════╤════════════════╤═══════════════════════════════════════╤══════════════╤═════════════╤════════════╕\n",
      "│    │   random_state │ T - E                                 │   Intercepto │   R^2 train │   R^2 test │\n",
      "╞════╪════════════════╪═══════════════════════════════════════╪══════════════╪═════════════╪════════════╡\n",
      "│  0 │           2345 │ [ 0.07788038  0.49453175 -0.25086331] │     0.428345 │    0.311724 │  0.107784  │\n",
      "├────┼────────────────┼───────────────────────────────────────┼──────────────┼─────────────┼────────────┤\n",
      "│  1 │            112 │ [ 0.05423104  0.52746294 -0.29665317] │     0.44691  │    0.149646 │  0.57068   │\n",
      "├────┼────────────────┼───────────────────────────────────────┼──────────────┼─────────────┼────────────┤\n",
      "│  2 │           5256 │ [ 0.03107054  0.53112243 -0.27133191] │     0.432922 │    0.286663 │  0.0961984 │\n",
      "├────┼────────────────┼───────────────────────────────────────┼──────────────┼─────────────┼────────────┤\n",
      "│  3 │           9896 │ [ 0.04127794  0.46957414 -0.28635318] │     0.440151 │    0.242688 │  0.275805  │\n",
      "├────┼────────────────┼───────────────────────────────────────┼──────────────┼─────────────┼────────────┤\n",
      "│  4 │           7623 │ [ 0.02593096  0.53615825 -0.21398742] │     0.417396 │    0.234028 │  0.284023  │\n",
      "├────┼────────────────┼───────────────────────────────────────┼──────────────┼─────────────┼────────────┤\n",
      "│  5 │           6889 │ [ 0.12523797  0.46507398 -0.36213782] │     0.458491 │    0.323197 │ -0.125737  │\n",
      "├────┼────────────────┼───────────────────────────────────────┼──────────────┼─────────────┼────────────┤\n",
      "│  6 │            262 │ [ 0.04110787  0.52985867 -0.27704458] │     0.423998 │    0.244555 │  0.231917  │\n",
      "├────┼────────────────┼───────────────────────────────────────┼──────────────┼─────────────┼────────────┤\n",
      "│  7 │           3911 │ [ 0.05799236  0.48101774 -0.30297983] │     0.435892 │    0.245467 │  0.300511  │\n",
      "╘════╧════════════════╧═══════════════════════════════════════╧══════════════╧═════════════╧════════════╛\n"
     ]
    }
   ],
   "source": [
    "headers = ['random_state', 'T - E', 'Intercepto', 'R^2 train', 'R^2 test']\n",
    "tabla_resumen4 = [headers, datos_tabla31, datos_tabla32, datos_tabla33, datos_tabla34, datos_tabla35, \n",
    "                 datos_tabla36, datos_tabla37, datos_tabla38]\n",
    "print(tabulate(tabla_resumen4, headers='firstrow', showindex = True, tablefmt='fancy_grid'))"
   ]
  },
  {
   "cell_type": "markdown",
   "id": "fb30cfb2",
   "metadata": {},
   "source": [
    "# Variables independientes = Crate, T, E"
   ]
  },
  {
   "cell_type": "code",
   "execution_count": 42,
   "id": "878e00e6",
   "metadata": {},
   "outputs": [
    {
     "name": "stdout",
     "output_type": "stream",
     "text": [
      "╒════════════════╤═══════════════════════════════════════╤══════════════╤═════════════╤════════════╕\n",
      "│   random_state │ Crate - T - E                         │   Intercepto │   R^2 train │   R^2 test │\n",
      "╞════════════════╪═══════════════════════════════════════╪══════════════╪═════════════╪════════════╡\n",
      "│           8776 │ [ 0.03287487  0.86162652 -0.26759327] │     0.419024 │    0.177508 │   0.256509 │\n",
      "╘════════════════╧═══════════════════════════════════════╧══════════════╧═════════════╧════════════╛\n"
     ]
    }
   ],
   "source": [
    "# random_state = 8776\n",
    "X = Data_scaled_pandas[['Crate', 'T', 'E']]\n",
    "y = Data_scaled_pandas['Smax']\n",
    "X_train, X_test, y_train, y_test = train_test_split(X,y, random_state=8776)\n",
    "\n",
    "\n",
    "lr = LinearRegression().fit(X_train,y_train)\n",
    "\n",
    "datos_tabla41 = [8776, lr.coef_, lr.intercept_, lr.score(X_train,y_train), lr.score(X_test,y_test)]\n",
    "#tabla\n",
    "table = [['random_state', 'Crate - T - E', 'Intercepto', 'R^2 train', 'R^2 test'], \n",
    "         [8776, lr.coef_, lr.intercept_, lr.score(X_train,y_train), lr.score(X_test,y_test)]]\n",
    "print(tabulate(table, headers='firstrow', tablefmt='fancy_grid'))"
   ]
  },
  {
   "cell_type": "code",
   "execution_count": 43,
   "id": "4f508ca9",
   "metadata": {},
   "outputs": [
    {
     "name": "stdout",
     "output_type": "stream",
     "text": [
      "╒════════════════╤═══════════════════════════════════════╤══════════════╤═════════════╤═════════════╕\n",
      "│   random_state │ Crate - T - E                         │   Intercepto │   R^2 train │    R^2 test │\n",
      "╞════════════════╪═══════════════════════════════════════╪══════════════╪═════════════╪═════════════╡\n",
      "│            808 │ [ 0.07383743  0.59736211 -0.23135189] │     0.388384 │    0.368637 │ -0.00628236 │\n",
      "╘════════════════╧═══════════════════════════════════════╧══════════════╧═════════════╧═════════════╛\n"
     ]
    }
   ],
   "source": [
    "# random_state = 808\n",
    "X = Data_scaled_pandas[['Crate', 'T', 'E']]\n",
    "y = Data_scaled_pandas['Smax']\n",
    "X_train, X_test, y_train, y_test = train_test_split(X,y, random_state=808)\n",
    "\n",
    "\n",
    "lr = LinearRegression().fit(X_train,y_train)\n",
    "\n",
    "datos_tabla42 = [808, lr.coef_, lr.intercept_, lr.score(X_train,y_train), lr.score(X_test,y_test)]\n",
    "#tabla\n",
    "table = [['random_state', 'Crate - T - E', 'Intercepto', 'R^2 train', 'R^2 test'], \n",
    "         [808, lr.coef_, lr.intercept_, lr.score(X_train,y_train), lr.score(X_test,y_test)]]\n",
    "print(tabulate(table, headers='firstrow', tablefmt='fancy_grid'))"
   ]
  },
  {
   "cell_type": "code",
   "execution_count": 44,
   "id": "8c670098",
   "metadata": {},
   "outputs": [
    {
     "name": "stdout",
     "output_type": "stream",
     "text": [
      "╒════════════════╤═══════════════════════════════════════╤══════════════╤═════════════╤════════════╕\n",
      "│   random_state │ Crate - T - E                         │   Intercepto │   R^2 train │   R^2 test │\n",
      "╞════════════════╪═══════════════════════════════════════╪══════════════╪═════════════╪════════════╡\n",
      "│            537 │ [ 0.02886309  0.57290664 -0.22750078] │     0.406355 │    0.333119 │  0.0650275 │\n",
      "╘════════════════╧═══════════════════════════════════════╧══════════════╧═════════════╧════════════╛\n"
     ]
    }
   ],
   "source": [
    "# random_state = 537\n",
    "X = Data_scaled_pandas[['Crate', 'T', 'E']]\n",
    "y = Data_scaled_pandas['Smax']\n",
    "X_train, X_test, y_train, y_test = train_test_split(X,y, random_state=537)\n",
    "\n",
    "\n",
    "lr = LinearRegression().fit(X_train,y_train)\n",
    "\n",
    "datos_tabla43 = [537, lr.coef_, lr.intercept_, lr.score(X_train,y_train), lr.score(X_test,y_test)]\n",
    "#tabla\n",
    "table = [['random_state', 'Crate - T - E', 'Intercepto', 'R^2 train', 'R^2 test'], \n",
    "         [537, lr.coef_, lr.intercept_, lr.score(X_train,y_train), lr.score(X_test,y_test)]]\n",
    "print(tabulate(table, headers='firstrow', tablefmt='fancy_grid'))"
   ]
  },
  {
   "cell_type": "code",
   "execution_count": 45,
   "id": "ae1ff1b1",
   "metadata": {},
   "outputs": [
    {
     "name": "stdout",
     "output_type": "stream",
     "text": [
      "╒════════════════╤═══════════════════════════════════════╤══════════════╤═════════════╤════════════╕\n",
      "│   random_state │ Crate - T - E                         │   Intercepto │   R^2 train │   R^2 test │\n",
      "╞════════════════╪═══════════════════════════════════════╪══════════════╪═════════════╪════════════╡\n",
      "│            702 │ [ 0.02756429  0.60693309 -0.19040921] │      0.38476 │    0.313506 │ -0.0293723 │\n",
      "╘════════════════╧═══════════════════════════════════════╧══════════════╧═════════════╧════════════╛\n"
     ]
    }
   ],
   "source": [
    "# random_state = 702\n",
    "X = Data_scaled_pandas[['Crate', 'T', 'E']]\n",
    "y = Data_scaled_pandas['Smax']\n",
    "X_train, X_test, y_train, y_test = train_test_split(X,y, random_state=702)\n",
    "\n",
    "\n",
    "lr = LinearRegression().fit(X_train,y_train)\n",
    "\n",
    "datos_tabla44 = [702, lr.coef_, lr.intercept_, lr.score(X_train,y_train), lr.score(X_test,y_test)]\n",
    "#tabla\n",
    "table = [['random_state', 'Crate - T - E', 'Intercepto', 'R^2 train', 'R^2 test'], \n",
    "         [702, lr.coef_, lr.intercept_, lr.score(X_train,y_train), lr.score(X_test,y_test)]]\n",
    "print(tabulate(table, headers='firstrow', tablefmt='fancy_grid'))"
   ]
  },
  {
   "cell_type": "code",
   "execution_count": 46,
   "id": "b6a60af8",
   "metadata": {},
   "outputs": [
    {
     "name": "stdout",
     "output_type": "stream",
     "text": [
      "╒════════════════╤═══════════════════════════════════════╤══════════════╤═════════════╤════════════╕\n",
      "│   random_state │ Crate - T - E                         │   Intercepto │   R^2 train │   R^2 test │\n",
      "╞════════════════╪═══════════════════════════════════════╪══════════════╪═════════════╪════════════╡\n",
      "│           1670 │ [ 0.03678235  0.55912314 -0.28641557] │     0.415002 │    0.287074 │  0.0978623 │\n",
      "╘════════════════╧═══════════════════════════════════════╧══════════════╧═════════════╧════════════╛\n"
     ]
    }
   ],
   "source": [
    "# random_state = 1670\n",
    "X = Data_scaled_pandas[['Crate', 'T', 'E']]\n",
    "y = Data_scaled_pandas['Smax']\n",
    "X_train, X_test, y_train, y_test = train_test_split(X,y, random_state=1670)\n",
    "\n",
    "\n",
    "lr = LinearRegression().fit(X_train,y_train)\n",
    "\n",
    "datos_tabla45 = [1670, lr.coef_, lr.intercept_, lr.score(X_train,y_train), lr.score(X_test,y_test)]\n",
    "#tabla\n",
    "table = [['random_state', 'Crate - T - E', 'Intercepto', 'R^2 train', 'R^2 test'], \n",
    "         [1670, lr.coef_, lr.intercept_, lr.score(X_train,y_train), lr.score(X_test,y_test)]]\n",
    "print(tabulate(table, headers='firstrow', tablefmt='fancy_grid'))"
   ]
  },
  {
   "cell_type": "code",
   "execution_count": 47,
   "id": "35c42f6f",
   "metadata": {},
   "outputs": [
    {
     "name": "stdout",
     "output_type": "stream",
     "text": [
      "╒════════════════╤═══════════════════════════════════════╤══════════════╤═════════════╤════════════╕\n",
      "│   random_state │ Crate - T - E                         │   Intercepto │   R^2 train │   R^2 test │\n",
      "╞════════════════╪═══════════════════════════════════════╪══════════════╪═════════════╪════════════╡\n",
      "│           9990 │ [ 0.05097932  0.57275188 -0.30276349] │     0.404168 │    0.359641 │  -0.129389 │\n",
      "╘════════════════╧═══════════════════════════════════════╧══════════════╧═════════════╧════════════╛\n"
     ]
    }
   ],
   "source": [
    "# random_state = 9990\n",
    "X = Data_scaled_pandas[['Crate', 'T', 'E']]\n",
    "y = Data_scaled_pandas['Smax']\n",
    "X_train, X_test, y_train, y_test = train_test_split(X,y, random_state=9990)\n",
    "\n",
    "\n",
    "lr = LinearRegression().fit(X_train,y_train)\n",
    "\n",
    "datos_tabla46 = [9990, lr.coef_, lr.intercept_, lr.score(X_train,y_train), lr.score(X_test,y_test)]\n",
    "#tabla\n",
    "table = [['random_state', 'Crate - T - E', 'Intercepto', 'R^2 train', 'R^2 test'], \n",
    "         [9990, lr.coef_, lr.intercept_, lr.score(X_train,y_train), lr.score(X_test,y_test)]]\n",
    "print(tabulate(table, headers='firstrow', tablefmt='fancy_grid'))"
   ]
  },
  {
   "cell_type": "code",
   "execution_count": 48,
   "id": "4d296c2e",
   "metadata": {},
   "outputs": [
    {
     "name": "stdout",
     "output_type": "stream",
     "text": [
      "╒════════════════╤═══════════════════════════════════════╤══════════════╤═════════════╤════════════╕\n",
      "│   random_state │ Crate - T - E                         │   Intercepto │   R^2 train │   R^2 test │\n",
      "╞════════════════╪═══════════════════════════════════════╪══════════════╪═════════════╪════════════╡\n",
      "│            678 │ [ 0.05317444  0.48349123 -0.20244707] │      0.39248 │    0.194411 │   0.347525 │\n",
      "╘════════════════╧═══════════════════════════════════════╧══════════════╧═════════════╧════════════╛\n"
     ]
    }
   ],
   "source": [
    "# random_state = 678\n",
    "X = Data_scaled_pandas[['Crate', 'T', 'E']]\n",
    "y = Data_scaled_pandas['Smax']\n",
    "X_train, X_test, y_train, y_test = train_test_split(X,y, random_state=678)\n",
    "\n",
    "\n",
    "lr = LinearRegression().fit(X_train,y_train)\n",
    "\n",
    "datos_tabla47 = [678, lr.coef_, lr.intercept_, lr.score(X_train,y_train), lr.score(X_test,y_test)]\n",
    "#tabla\n",
    "table = [['random_state', 'Crate - T - E', 'Intercepto', 'R^2 train', 'R^2 test'], \n",
    "         [678, lr.coef_, lr.intercept_, lr.score(X_train,y_train), lr.score(X_test,y_test)]]\n",
    "print(tabulate(table, headers='firstrow', tablefmt='fancy_grid'))"
   ]
  },
  {
   "cell_type": "code",
   "execution_count": 49,
   "id": "4c00a20c",
   "metadata": {},
   "outputs": [
    {
     "name": "stdout",
     "output_type": "stream",
     "text": [
      "╒════════════════╤═══════════════════════════════════════╤══════════════╤═════════════╤════════════╕\n",
      "│   random_state │ Crate - T - E                         │   Intercepto │   R^2 train │   R^2 test │\n",
      "╞════════════════╪═══════════════════════════════════════╪══════════════╪═════════════╪════════════╡\n",
      "│            125 │ [-0.00124915  0.53119926 -0.25285796] │     0.428569 │    0.232861 │   0.269926 │\n",
      "╘════════════════╧═══════════════════════════════════════╧══════════════╧═════════════╧════════════╛\n"
     ]
    }
   ],
   "source": [
    "# random_state = 125\n",
    "X = Data_scaled_pandas[['Crate', 'T', 'E']]\n",
    "y = Data_scaled_pandas['Smax']\n",
    "X_train, X_test, y_train, y_test = train_test_split(X,y, random_state=125)\n",
    "\n",
    "\n",
    "lr = LinearRegression().fit(X_train,y_train)\n",
    "\n",
    "datos_tabla48 = [125, lr.coef_, lr.intercept_, lr.score(X_train,y_train), lr.score(X_test,y_test)]\n",
    "#tabla\n",
    "table = [['random_state', 'Crate - T - E', 'Intercepto', 'R^2 train', 'R^2 test'], \n",
    "         [125, lr.coef_, lr.intercept_, lr.score(X_train,y_train), lr.score(X_test,y_test)]]\n",
    "print(tabulate(table, headers='firstrow', tablefmt='fancy_grid'))"
   ]
  },
  {
   "cell_type": "code",
   "execution_count": 50,
   "id": "c6b67f81",
   "metadata": {},
   "outputs": [
    {
     "name": "stdout",
     "output_type": "stream",
     "text": [
      "╒════════════════╤═══════════════════════════════════════╤══════════════╤═════════════╤════════════╕\n",
      "│   random_state │ Crate - T - E                         │   Intercepto │   R^2 train │   R^2 test │\n",
      "╞════════════════╪═══════════════════════════════════════╪══════════════╪═════════════╪════════════╡\n",
      "│            362 │ [ 0.04869983  0.62149855 -0.27083297] │     0.418525 │     0.24804 │   0.281136 │\n",
      "╘════════════════╧═══════════════════════════════════════╧══════════════╧═════════════╧════════════╛\n"
     ]
    }
   ],
   "source": [
    "# random_state = 362\n",
    "X = Data_scaled_pandas[['Crate', 'T', 'E']]\n",
    "y = Data_scaled_pandas['Smax']\n",
    "X_train, X_test, y_train, y_test = train_test_split(X,y, random_state=362)\n",
    "\n",
    "\n",
    "lr = LinearRegression().fit(X_train,y_train)\n",
    "\n",
    "datos_tabla49 = [362, lr.coef_, lr.intercept_, lr.score(X_train,y_train), lr.score(X_test,y_test)]\n",
    "#tabla\n",
    "table = [['random_state', 'Crate - T - E', 'Intercepto', 'R^2 train', 'R^2 test'], \n",
    "         [362, lr.coef_, lr.intercept_, lr.score(X_train,y_train), lr.score(X_test,y_test)]]\n",
    "print(tabulate(table, headers='firstrow', tablefmt='fancy_grid'))"
   ]
  },
  {
   "cell_type": "code",
   "execution_count": 51,
   "id": "159c7f1e",
   "metadata": {},
   "outputs": [
    {
     "name": "stdout",
     "output_type": "stream",
     "text": [
      "╒════════════════╤═══════════════════════════════════════╤══════════════╤═════════════╤════════════╕\n",
      "│   random_state │ Crate - T - E                         │   Intercepto │   R^2 train │   R^2 test │\n",
      "╞════════════════╪═══════════════════════════════════════╪══════════════╪═════════════╪════════════╡\n",
      "│             64 │ [ 0.02895428  0.52475458 -0.23589406] │      0.42133 │    0.261374 │   0.229251 │\n",
      "╘════════════════╧═══════════════════════════════════════╧══════════════╧═════════════╧════════════╛\n"
     ]
    }
   ],
   "source": [
    "# random_state = 64\n",
    "X = Data_scaled_pandas[['Crate', 'T', 'E']]\n",
    "y = Data_scaled_pandas['Smax']\n",
    "X_train, X_test, y_train, y_test = train_test_split(X,y, random_state=64)\n",
    "\n",
    "\n",
    "lr = LinearRegression().fit(X_train,y_train)\n",
    "\n",
    "datos_tabla50 = [64, lr.coef_, lr.intercept_, lr.score(X_train,y_train), lr.score(X_test,y_test)]\n",
    "#tabla\n",
    "table = [['random_state', 'Crate - T - E', 'Intercepto', 'R^2 train', 'R^2 test'], \n",
    "         [64, lr.coef_, lr.intercept_, lr.score(X_train,y_train), lr.score(X_test,y_test)]]\n",
    "print(tabulate(table, headers='firstrow', tablefmt='fancy_grid'))"
   ]
  },
  {
   "cell_type": "markdown",
   "id": "369fc2b3",
   "metadata": {},
   "source": [
    "# Resumen (Crate, T, E) y 10 random_state"
   ]
  },
  {
   "cell_type": "code",
   "execution_count": 52,
   "id": "7fcebc28",
   "metadata": {},
   "outputs": [
    {
     "name": "stdout",
     "output_type": "stream",
     "text": [
      "╒════╤════════════════╤═══════════════════════════════════════╤══════════════╤═════════════╤═════════════╕\n",
      "│    │   random_state │ Crate - T - E                         │   Intercepto │   R^2 train │    R^2 test │\n",
      "╞════╪════════════════╪═══════════════════════════════════════╪══════════════╪═════════════╪═════════════╡\n",
      "│  0 │           8776 │ [ 0.03287487  0.86162652 -0.26759327] │     0.419024 │    0.177508 │  0.256509   │\n",
      "├────┼────────────────┼───────────────────────────────────────┼──────────────┼─────────────┼─────────────┤\n",
      "│  1 │            808 │ [ 0.07383743  0.59736211 -0.23135189] │     0.388384 │    0.368637 │ -0.00628236 │\n",
      "├────┼────────────────┼───────────────────────────────────────┼──────────────┼─────────────┼─────────────┤\n",
      "│  2 │            537 │ [ 0.02886309  0.57290664 -0.22750078] │     0.406355 │    0.333119 │  0.0650275  │\n",
      "├────┼────────────────┼───────────────────────────────────────┼──────────────┼─────────────┼─────────────┤\n",
      "│  3 │            702 │ [ 0.02756429  0.60693309 -0.19040921] │     0.38476  │    0.313506 │ -0.0293723  │\n",
      "├────┼────────────────┼───────────────────────────────────────┼──────────────┼─────────────┼─────────────┤\n",
      "│  4 │           1670 │ [ 0.03678235  0.55912314 -0.28641557] │     0.415002 │    0.287074 │  0.0978623  │\n",
      "├────┼────────────────┼───────────────────────────────────────┼──────────────┼─────────────┼─────────────┤\n",
      "│  5 │           9990 │ [ 0.05097932  0.57275188 -0.30276349] │     0.404168 │    0.359641 │ -0.129389   │\n",
      "├────┼────────────────┼───────────────────────────────────────┼──────────────┼─────────────┼─────────────┤\n",
      "│  6 │            678 │ [ 0.05317444  0.48349123 -0.20244707] │     0.39248  │    0.194411 │  0.347525   │\n",
      "├────┼────────────────┼───────────────────────────────────────┼──────────────┼─────────────┼─────────────┤\n",
      "│  7 │            125 │ [-0.00124915  0.53119926 -0.25285796] │     0.428569 │    0.232861 │  0.269926   │\n",
      "├────┼────────────────┼───────────────────────────────────────┼──────────────┼─────────────┼─────────────┤\n",
      "│  8 │            362 │ [ 0.04869983  0.62149855 -0.27083297] │     0.418525 │    0.24804  │  0.281136   │\n",
      "├────┼────────────────┼───────────────────────────────────────┼──────────────┼─────────────┼─────────────┤\n",
      "│  9 │             64 │ [ 0.02895428  0.52475458 -0.23589406] │     0.42133  │    0.261374 │  0.229251   │\n",
      "╘════╧════════════════╧═══════════════════════════════════════╧══════════════╧═════════════╧═════════════╛\n"
     ]
    }
   ],
   "source": [
    "headers = ['random_state', 'Crate - T - E', 'Intercepto', 'R^2 train', 'R^2 test']\n",
    "tabla_resumen5 = [headers, datos_tabla41, datos_tabla42, datos_tabla43, datos_tabla44, datos_tabla45, \n",
    "                 datos_tabla46, datos_tabla47, datos_tabla48, datos_tabla49, datos_tabla50]\n",
    "print(tabulate(tabla_resumen5, headers='firstrow', showindex = True, tablefmt='fancy_grid'))"
   ]
  },
  {
   "cell_type": "markdown",
   "id": "738b4d76",
   "metadata": {},
   "source": [
    "# Variables independientes = Crate, Srate"
   ]
  },
  {
   "cell_type": "code",
   "execution_count": 53,
   "id": "9a27d77a",
   "metadata": {},
   "outputs": [
    {
     "name": "stdout",
     "output_type": "stream",
     "text": [
      "╒════════════════╤═════════════════════════╤══════════════╤═════════════╤════════════╕\n",
      "│   random_state │ Crate - Srate           │   Intercepto │   R^2 train │   R^2 test │\n",
      "╞════════════════╪═════════════════════════╪══════════════╪═════════════╪════════════╡\n",
      "│            371 │ [0.06003466 0.10808162] │     0.338915 │   0.0499994 │  0.0453383 │\n",
      "╘════════════════╧═════════════════════════╧══════════════╧═════════════╧════════════╛\n"
     ]
    }
   ],
   "source": [
    "# random_state = 371\n",
    "X = Data_scaled_pandas[['Crate', 'Srate']]\n",
    "y = Data_scaled_pandas['Smax']\n",
    "X_train, X_test, y_train, y_test = train_test_split(X,y, random_state=371)\n",
    "\n",
    "\n",
    "lr = LinearRegression().fit(X_train,y_train)\n",
    "\n",
    "datos_tabla51 = [371, lr.coef_, lr.intercept_, lr.score(X_train,y_train), lr.score(X_test,y_test)]\n",
    "#tabla\n",
    "table = [['random_state', 'Crate - Srate', 'Intercepto', 'R^2 train', 'R^2 test'], \n",
    "         [371, lr.coef_, lr.intercept_, lr.score(X_train,y_train), lr.score(X_test,y_test)]]\n",
    "print(tabulate(table, headers='firstrow', tablefmt='fancy_grid'))"
   ]
  },
  {
   "cell_type": "code",
   "execution_count": 54,
   "id": "c7914d9d",
   "metadata": {},
   "outputs": [
    {
     "name": "stdout",
     "output_type": "stream",
     "text": [
      "╒════════════════╤═════════════════════════╤══════════════╤═════════════╤════════════╕\n",
      "│   random_state │ Crate - Srate           │   Intercepto │   R^2 train │   R^2 test │\n",
      "╞════════════════╪═════════════════════════╪══════════════╪═════════════╪════════════╡\n",
      "│            703 │ [0.02497996 0.14953502] │     0.337693 │   0.0651536 │  -0.157688 │\n",
      "╘════════════════╧═════════════════════════╧══════════════╧═════════════╧════════════╛\n"
     ]
    }
   ],
   "source": [
    "# random_state = 703\n",
    "X = Data_scaled_pandas[['Crate', 'Srate']]\n",
    "y = Data_scaled_pandas['Smax']\n",
    "X_train, X_test, y_train, y_test = train_test_split(X,y, random_state=703)\n",
    "\n",
    "\n",
    "lr = LinearRegression().fit(X_train,y_train)\n",
    "\n",
    "datos_tabla52 = [703, lr.coef_, lr.intercept_, lr.score(X_train,y_train), lr.score(X_test,y_test)]\n",
    "#tabla\n",
    "table = [['random_state', 'Crate - Srate', 'Intercepto', 'R^2 train', 'R^2 test'], \n",
    "         [703, lr.coef_, lr.intercept_, lr.score(X_train,y_train), lr.score(X_test,y_test)]]\n",
    "print(tabulate(table, headers='firstrow', tablefmt='fancy_grid'))"
   ]
  },
  {
   "cell_type": "code",
   "execution_count": 55,
   "id": "54cbb3de",
   "metadata": {},
   "outputs": [
    {
     "name": "stdout",
     "output_type": "stream",
     "text": [
      "╒════════════════╤═════════════════════════╤══════════════╤═════════════╤════════════╕\n",
      "│   random_state │ Crate - Srate           │   Intercepto │   R^2 train │   R^2 test │\n",
      "╞════════════════╪═════════════════════════╪══════════════╪═════════════╪════════════╡\n",
      "│              5 │ [0.05588364 0.1944602 ] │     0.331348 │   0.0903554 │ -0.0958977 │\n",
      "╘════════════════╧═════════════════════════╧══════════════╧═════════════╧════════════╛\n"
     ]
    }
   ],
   "source": [
    "# random_state = 5\n",
    "X = Data_scaled_pandas[['Crate', 'Srate']]\n",
    "y = Data_scaled_pandas['Smax']\n",
    "X_train, X_test, y_train, y_test = train_test_split(X,y, random_state=5)\n",
    "\n",
    "\n",
    "lr = LinearRegression().fit(X_train,y_train)\n",
    "\n",
    "datos_tabla53 = [5, lr.coef_, lr.intercept_, lr.score(X_train,y_train), lr.score(X_test,y_test)]\n",
    "#tabla\n",
    "table = [['random_state', 'Crate - Srate', 'Intercepto', 'R^2 train', 'R^2 test'], \n",
    "         [5, lr.coef_, lr.intercept_, lr.score(X_train,y_train), lr.score(X_test,y_test)]]\n",
    "print(tabulate(table, headers='firstrow', tablefmt='fancy_grid'))"
   ]
  },
  {
   "cell_type": "code",
   "execution_count": 56,
   "id": "6776453c",
   "metadata": {},
   "outputs": [
    {
     "name": "stdout",
     "output_type": "stream",
     "text": [
      "╒════════════════╤═════════════════════════╤══════════════╤═════════════╤════════════╕\n",
      "│   random_state │ Crate - Srate           │   Intercepto │   R^2 train │   R^2 test │\n",
      "╞════════════════╪═════════════════════════╪══════════════╪═════════════╪════════════╡\n",
      "│            575 │ [0.02279979 0.13025812] │     0.358409 │   0.0417432 │  0.0753124 │\n",
      "╘════════════════╧═════════════════════════╧══════════════╧═════════════╧════════════╛\n"
     ]
    }
   ],
   "source": [
    "# random_state = 575\n",
    "X = Data_scaled_pandas[['Crate', 'Srate']]\n",
    "y = Data_scaled_pandas['Smax']\n",
    "X_train, X_test, y_train, y_test = train_test_split(X,y, random_state=575)\n",
    "\n",
    "\n",
    "lr = LinearRegression().fit(X_train,y_train)\n",
    "\n",
    "datos_tabla54 = [575, lr.coef_, lr.intercept_, lr.score(X_train,y_train), lr.score(X_test,y_test)]\n",
    "#tabla\n",
    "table = [['random_state', 'Crate - Srate', 'Intercepto', 'R^2 train', 'R^2 test'], \n",
    "         [575, lr.coef_, lr.intercept_, lr.score(X_train,y_train), lr.score(X_test,y_test)]]\n",
    "print(tabulate(table, headers='firstrow', tablefmt='fancy_grid'))"
   ]
  },
  {
   "cell_type": "code",
   "execution_count": 57,
   "id": "98531a09",
   "metadata": {},
   "outputs": [
    {
     "name": "stdout",
     "output_type": "stream",
     "text": [
      "╒════════════════╤═════════════════════════╤══════════════╤═════════════╤════════════╕\n",
      "│   random_state │ Crate - Srate           │   Intercepto │   R^2 train │   R^2 test │\n",
      "╞════════════════╪═════════════════════════╪══════════════╪═════════════╪════════════╡\n",
      "│            757 │ [0.02862768 0.07883174] │     0.356876 │   0.0191478 │  0.0699677 │\n",
      "╘════════════════╧═════════════════════════╧══════════════╧═════════════╧════════════╛\n"
     ]
    }
   ],
   "source": [
    "# random_state = 757\n",
    "X = Data_scaled_pandas[['Crate', 'Srate']]\n",
    "y = Data_scaled_pandas['Smax']\n",
    "X_train, X_test, y_train, y_test = train_test_split(X,y, random_state=757)\n",
    "\n",
    "\n",
    "lr = LinearRegression().fit(X_train,y_train)\n",
    "\n",
    "datos_tabla55 = [757, lr.coef_, lr.intercept_, lr.score(X_train,y_train), lr.score(X_test,y_test)]\n",
    "#tabla\n",
    "table = [['random_state', 'Crate - Srate', 'Intercepto', 'R^2 train', 'R^2 test'], \n",
    "         [757, lr.coef_, lr.intercept_, lr.score(X_train,y_train), lr.score(X_test,y_test)]]\n",
    "print(tabulate(table, headers='firstrow', tablefmt='fancy_grid'))"
   ]
  },
  {
   "cell_type": "code",
   "execution_count": 58,
   "id": "9daead2a",
   "metadata": {},
   "outputs": [
    {
     "name": "stdout",
     "output_type": "stream",
     "text": [
      "╒════════════════╤═════════════════════════╤══════════════╤═════════════╤════════════╕\n",
      "│   random_state │ Crate - Srate           │   Intercepto │   R^2 train │   R^2 test │\n",
      "╞════════════════╪═════════════════════════╪══════════════╪═════════════╪════════════╡\n",
      "│            828 │ [0.01809285 0.17612472] │     0.357533 │   0.0883502 │  -0.119369 │\n",
      "╘════════════════╧═════════════════════════╧══════════════╧═════════════╧════════════╛\n"
     ]
    }
   ],
   "source": [
    "# random_state = 828\n",
    "X = Data_scaled_pandas[['Crate', 'Srate']]\n",
    "y = Data_scaled_pandas['Smax']\n",
    "X_train, X_test, y_train, y_test = train_test_split(X,y, random_state=828)\n",
    "\n",
    "\n",
    "lr = LinearRegression().fit(X_train,y_train)\n",
    "\n",
    "datos_tabla56 = [828, lr.coef_, lr.intercept_, lr.score(X_train,y_train), lr.score(X_test,y_test)]\n",
    "#tabla\n",
    "table = [['random_state', 'Crate - Srate', 'Intercepto', 'R^2 train', 'R^2 test'], \n",
    "         [828, lr.coef_, lr.intercept_, lr.score(X_train,y_train), lr.score(X_test,y_test)]]\n",
    "print(tabulate(table, headers='firstrow', tablefmt='fancy_grid'))"
   ]
  },
  {
   "cell_type": "markdown",
   "id": "93af1f50",
   "metadata": {},
   "source": [
    "# Resumen (Crate, Srate) y 6 random_state"
   ]
  },
  {
   "cell_type": "code",
   "execution_count": 59,
   "id": "a9250f0d",
   "metadata": {},
   "outputs": [
    {
     "name": "stdout",
     "output_type": "stream",
     "text": [
      "╒════╤════════════════╤═════════════════════════╤══════════════╤═════════════╤════════════╕\n",
      "│    │   random_state │ Crate - Srate           │   Intercepto │   R^2 train │   R^2 test │\n",
      "╞════╪════════════════╪═════════════════════════╪══════════════╪═════════════╪════════════╡\n",
      "│  0 │            371 │ [0.06003466 0.10808162] │     0.338915 │   0.0499994 │  0.0453383 │\n",
      "├────┼────────────────┼─────────────────────────┼──────────────┼─────────────┼────────────┤\n",
      "│  1 │            703 │ [0.02497996 0.14953502] │     0.337693 │   0.0651536 │ -0.157688  │\n",
      "├────┼────────────────┼─────────────────────────┼──────────────┼─────────────┼────────────┤\n",
      "│  2 │              5 │ [0.05588364 0.1944602 ] │     0.331348 │   0.0903554 │ -0.0958977 │\n",
      "├────┼────────────────┼─────────────────────────┼──────────────┼─────────────┼────────────┤\n",
      "│  3 │            575 │ [0.02279979 0.13025812] │     0.358409 │   0.0417432 │  0.0753124 │\n",
      "├────┼────────────────┼─────────────────────────┼──────────────┼─────────────┼────────────┤\n",
      "│  4 │            757 │ [0.02862768 0.07883174] │     0.356876 │   0.0191478 │  0.0699677 │\n",
      "├────┼────────────────┼─────────────────────────┼──────────────┼─────────────┼────────────┤\n",
      "│  5 │            828 │ [0.01809285 0.17612472] │     0.357533 │   0.0883502 │ -0.119369  │\n",
      "╘════╧════════════════╧═════════════════════════╧══════════════╧═════════════╧════════════╛\n"
     ]
    }
   ],
   "source": [
    "headers = ['random_state', 'Crate - Srate', 'Intercepto', 'R^2 train', 'R^2 test']\n",
    "tabla_resumen6 = [headers, datos_tabla51, datos_tabla52, datos_tabla53, datos_tabla54, datos_tabla55, \n",
    "                 datos_tabla56]\n",
    "print(tabulate(tabla_resumen6, headers='firstrow', showindex = True, tablefmt='fancy_grid'))"
   ]
  },
  {
   "cell_type": "markdown",
   "id": "1f6951a5",
   "metadata": {},
   "source": [
    "# Variables independientes = Test, E"
   ]
  },
  {
   "cell_type": "code",
   "execution_count": 60,
   "id": "fe4a9b94",
   "metadata": {},
   "outputs": [
    {
     "name": "stdout",
     "output_type": "stream",
     "text": [
      "╒════════════════╤═══════════════════════════╤══════════════╤═════════════╤════════════╕\n",
      "│   random_state │ test - E                  │   Intercepto │   R^2 train │   R^2 test │\n",
      "╞════════════════╪═══════════════════════════╪══════════════╪═════════════╪════════════╡\n",
      "│            227 │ [-0.00098098 -0.34305791] │     0.488358 │    0.139125 │  -0.118524 │\n",
      "╘════════════════╧═══════════════════════════╧══════════════╧═════════════╧════════════╛\n"
     ]
    }
   ],
   "source": [
    "# random_state = 227\n",
    "X = Data_scaled_pandas[['test', 'E']]\n",
    "y = Data_scaled_pandas['Smax']\n",
    "X_train, X_test, y_train, y_test = train_test_split(X,y, random_state=227)\n",
    "\n",
    "\n",
    "lr = LinearRegression().fit(X_train,y_train)\n",
    "\n",
    "datos_tabla61 = [227, lr.coef_, lr.intercept_, lr.score(X_train,y_train), lr.score(X_test,y_test)]\n",
    "#tabla\n",
    "table = [['random_state', 'test - E', 'Intercepto', 'R^2 train', 'R^2 test'], \n",
    "         [227, lr.coef_, lr.intercept_, lr.score(X_train,y_train), lr.score(X_test,y_test)]]\n",
    "print(tabulate(table, headers='firstrow', tablefmt='fancy_grid'))"
   ]
  },
  {
   "cell_type": "code",
   "execution_count": 61,
   "id": "2101bfdf",
   "metadata": {},
   "outputs": [
    {
     "name": "stdout",
     "output_type": "stream",
     "text": [
      "╒════════════════╤═══════════════════════════╤══════════════╤═════════════╤════════════╕\n",
      "│   random_state │ test - E                  │   Intercepto │   R^2 train │   R^2 test │\n",
      "╞════════════════╪═══════════════════════════╪══════════════╪═════════════╪════════════╡\n",
      "│            504 │ [-0.04051641 -0.23480488] │      0.46764 │   0.0929551 │   0.133253 │\n",
      "╘════════════════╧═══════════════════════════╧══════════════╧═════════════╧════════════╛\n"
     ]
    }
   ],
   "source": [
    "# random_state = 504\n",
    "X = Data_scaled_pandas[['test', 'E']]\n",
    "y = Data_scaled_pandas['Smax']\n",
    "X_train, X_test, y_train, y_test = train_test_split(X,y, random_state=504)\n",
    "\n",
    "\n",
    "lr = LinearRegression().fit(X_train,y_train)\n",
    "\n",
    "datos_tabla62 = [504, lr.coef_, lr.intercept_, lr.score(X_train,y_train), lr.score(X_test,y_test)]\n",
    "#tabla\n",
    "table = [['random_state', 'test - E', 'Intercepto', 'R^2 train', 'R^2 test'], \n",
    "         [504, lr.coef_, lr.intercept_, lr.score(X_train,y_train), lr.score(X_test,y_test)]]\n",
    "print(tabulate(table, headers='firstrow', tablefmt='fancy_grid'))"
   ]
  },
  {
   "cell_type": "code",
   "execution_count": 62,
   "id": "06fb427c",
   "metadata": {},
   "outputs": [
    {
     "name": "stdout",
     "output_type": "stream",
     "text": [
      "╒════════════════╤═══════════════════════════╤══════════════╤═════════════╤════════════╕\n",
      "│   random_state │ test - E                  │   Intercepto │   R^2 train │   R^2 test │\n",
      "╞════════════════╪═══════════════════════════╪══════════════╪═════════════╪════════════╡\n",
      "│            800 │ [-0.03407042 -0.2512916 ] │     0.479503 │   0.0794581 │   0.210268 │\n",
      "╘════════════════╧═══════════════════════════╧══════════════╧═════════════╧════════════╛\n"
     ]
    }
   ],
   "source": [
    "# random_state = 800\n",
    "X = Data_scaled_pandas[['test', 'E']]\n",
    "y = Data_scaled_pandas['Smax']\n",
    "X_train, X_test, y_train, y_test = train_test_split(X,y, random_state=800)\n",
    "\n",
    "\n",
    "lr = LinearRegression().fit(X_train,y_train)\n",
    "\n",
    "datos_tabla63 = [800, lr.coef_, lr.intercept_, lr.score(X_train,y_train), lr.score(X_test,y_test)]\n",
    "#tabla\n",
    "table = [['random_state', 'test - E', 'Intercepto', 'R^2 train', 'R^2 test'], \n",
    "         [800, lr.coef_, lr.intercept_, lr.score(X_train,y_train), lr.score(X_test,y_test)]]\n",
    "print(tabulate(table, headers='firstrow', tablefmt='fancy_grid'))"
   ]
  },
  {
   "cell_type": "code",
   "execution_count": 63,
   "id": "d9e5d6dd",
   "metadata": {},
   "outputs": [
    {
     "name": "stdout",
     "output_type": "stream",
     "text": [
      "╒════════════════╤═══════════════════════════╤══════════════╤═════════════╤════════════╕\n",
      "│   random_state │ test - E                  │   Intercepto │   R^2 train │   R^2 test │\n",
      "╞════════════════╪═══════════════════════════╪══════════════╪═════════════╪════════════╡\n",
      "│            120 │ [-0.01259951 -0.31741896] │     0.482954 │    0.123719 │  0.0860326 │\n",
      "╘════════════════╧═══════════════════════════╧══════════════╧═════════════╧════════════╛\n"
     ]
    }
   ],
   "source": [
    "# random_state = 120\n",
    "X = Data_scaled_pandas[['test', 'E']]\n",
    "y = Data_scaled_pandas['Smax']\n",
    "X_train, X_test, y_train, y_test = train_test_split(X,y, random_state=120)\n",
    "\n",
    "\n",
    "lr = LinearRegression().fit(X_train,y_train)\n",
    "\n",
    "datos_tabla64 = [120, lr.coef_, lr.intercept_, lr.score(X_train,y_train), lr.score(X_test,y_test)]\n",
    "#tabla\n",
    "table = [['random_state', 'test - E', 'Intercepto', 'R^2 train', 'R^2 test'], \n",
    "         [120, lr.coef_, lr.intercept_, lr.score(X_train,y_train), lr.score(X_test,y_test)]]\n",
    "print(tabulate(table, headers='firstrow', tablefmt='fancy_grid'))"
   ]
  },
  {
   "cell_type": "code",
   "execution_count": 64,
   "id": "adfce1dd",
   "metadata": {},
   "outputs": [
    {
     "name": "stdout",
     "output_type": "stream",
     "text": [
      "╒════════════════╤═══════════════════════════╤══════════════╤═════════════╤════════════╕\n",
      "│   random_state │ test - E                  │   Intercepto │   R^2 train │   R^2 test │\n",
      "╞════════════════╪═══════════════════════════╪══════════════╪═════════════╪════════════╡\n",
      "│            925 │ [-0.02440234 -0.36641238] │     0.504546 │    0.167297 │  -0.174329 │\n",
      "╘════════════════╧═══════════════════════════╧══════════════╧═════════════╧════════════╛\n"
     ]
    }
   ],
   "source": [
    "# random_state = 925\n",
    "X = Data_scaled_pandas[['test', 'E']]\n",
    "y = Data_scaled_pandas['Smax']\n",
    "X_train, X_test, y_train, y_test = train_test_split(X,y, random_state=925)\n",
    "\n",
    "\n",
    "lr = LinearRegression().fit(X_train,y_train)\n",
    "\n",
    "datos_tabla65 = [925, lr.coef_, lr.intercept_, lr.score(X_train,y_train), lr.score(X_test,y_test)]\n",
    "#tabla\n",
    "table = [['random_state', 'test - E', 'Intercepto', 'R^2 train', 'R^2 test'], \n",
    "         [925, lr.coef_, lr.intercept_, lr.score(X_train,y_train), lr.score(X_test,y_test)]]\n",
    "print(tabulate(table, headers='firstrow', tablefmt='fancy_grid'))"
   ]
  },
  {
   "cell_type": "code",
   "execution_count": 65,
   "id": "1aec1391",
   "metadata": {},
   "outputs": [
    {
     "name": "stdout",
     "output_type": "stream",
     "text": [
      "╒════════════════╤═══════════════════════════╤══════════════╤═════════════╤═════════════╕\n",
      "│   random_state │ test - E                  │   Intercepto │   R^2 train │    R^2 test │\n",
      "╞════════════════╪═══════════════════════════╪══════════════╪═════════════╪═════════════╡\n",
      "│            792 │ [-0.00062286 -0.32585127] │     0.483843 │    0.131609 │ -0.00692437 │\n",
      "╘════════════════╧═══════════════════════════╧══════════════╧═════════════╧═════════════╛\n"
     ]
    }
   ],
   "source": [
    "# random_state = 792\n",
    "X = Data_scaled_pandas[['test', 'E']]\n",
    "y = Data_scaled_pandas['Smax']\n",
    "X_train, X_test, y_train, y_test = train_test_split(X,y, random_state=792)\n",
    "\n",
    "\n",
    "lr = LinearRegression().fit(X_train,y_train)\n",
    "\n",
    "datos_tabla66 = [792, lr.coef_, lr.intercept_, lr.score(X_train,y_train), lr.score(X_test,y_test)]\n",
    "#tabla\n",
    "table = [['random_state', 'test - E', 'Intercepto', 'R^2 train', 'R^2 test'], \n",
    "         [792, lr.coef_, lr.intercept_, lr.score(X_train,y_train), lr.score(X_test,y_test)]]\n",
    "print(tabulate(table, headers='firstrow', tablefmt='fancy_grid'))"
   ]
  },
  {
   "cell_type": "code",
   "execution_count": 66,
   "id": "df45e379",
   "metadata": {},
   "outputs": [
    {
     "name": "stdout",
     "output_type": "stream",
     "text": [
      "╒════════════════╤═══════════════════════════╤══════════════╤═════════════╤════════════╕\n",
      "│   random_state │ test - E                  │   Intercepto │   R^2 train │   R^2 test │\n",
      "╞════════════════╪═══════════════════════════╪══════════════╪═════════════╪════════════╡\n",
      "│             33 │ [-0.04056679 -0.19324329] │     0.461466 │   0.0704088 │   0.164734 │\n",
      "╘════════════════╧═══════════════════════════╧══════════════╧═════════════╧════════════╛\n"
     ]
    }
   ],
   "source": [
    "# random_state = 33\n",
    "X = Data_scaled_pandas[['test', 'E']]\n",
    "y = Data_scaled_pandas['Smax']\n",
    "X_train, X_test, y_train, y_test = train_test_split(X,y, random_state=33)\n",
    "\n",
    "\n",
    "lr = LinearRegression().fit(X_train,y_train)\n",
    "\n",
    "datos_tabla67 = [33, lr.coef_, lr.intercept_, lr.score(X_train,y_train), lr.score(X_test,y_test)]\n",
    "#tabla\n",
    "table = [['random_state', 'test - E', 'Intercepto', 'R^2 train', 'R^2 test'], \n",
    "         [33, lr.coef_, lr.intercept_, lr.score(X_train,y_train), lr.score(X_test,y_test)]]\n",
    "print(tabulate(table, headers='firstrow', tablefmt='fancy_grid'))"
   ]
  },
  {
   "cell_type": "code",
   "execution_count": 67,
   "id": "7b0118df",
   "metadata": {},
   "outputs": [
    {
     "name": "stdout",
     "output_type": "stream",
     "text": [
      "╒════════════════╤═══════════════════════════╤══════════════╤═════════════╤════════════╕\n",
      "│   random_state │ test - E                  │   Intercepto │   R^2 train │   R^2 test │\n",
      "╞════════════════╪═══════════════════════════╪══════════════╪═════════════╪════════════╡\n",
      "│            461 │ [-0.00407334 -0.28262429] │     0.449426 │   0.0902199 │  0.0320853 │\n",
      "╘════════════════╧═══════════════════════════╧══════════════╧═════════════╧════════════╛\n"
     ]
    }
   ],
   "source": [
    "# random_state = 461\n",
    "X = Data_scaled_pandas[['test', 'E']]\n",
    "y = Data_scaled_pandas['Smax']\n",
    "X_train, X_test, y_train, y_test = train_test_split(X,y, random_state=461)\n",
    "\n",
    "\n",
    "lr = LinearRegression().fit(X_train,y_train)\n",
    "\n",
    "datos_tabla68 = [461, lr.coef_, lr.intercept_, lr.score(X_train,y_train), lr.score(X_test,y_test)]\n",
    "#tabla\n",
    "table = [['random_state', 'test - E', 'Intercepto', 'R^2 train', 'R^2 test'], \n",
    "         [461, lr.coef_, lr.intercept_, lr.score(X_train,y_train), lr.score(X_test,y_test)]]\n",
    "print(tabulate(table, headers='firstrow', tablefmt='fancy_grid'))"
   ]
  },
  {
   "cell_type": "code",
   "execution_count": 68,
   "id": "c19120bd",
   "metadata": {},
   "outputs": [
    {
     "name": "stdout",
     "output_type": "stream",
     "text": [
      "╒════════════════╤═══════════════════════════╤══════════════╤═════════════╤════════════╕\n",
      "│   random_state │ test - E                  │   Intercepto │   R^2 train │   R^2 test │\n",
      "╞════════════════╪═══════════════════════════╪══════════════╪═════════════╪════════════╡\n",
      "│            114 │ [-0.03978665 -0.36619997] │     0.501801 │    0.191598 │  -0.147491 │\n",
      "╘════════════════╧═══════════════════════════╧══════════════╧═════════════╧════════════╛\n"
     ]
    }
   ],
   "source": [
    "# random_state = 114\n",
    "X = Data_scaled_pandas[['test', 'E']]\n",
    "y = Data_scaled_pandas['Smax']\n",
    "X_train, X_test, y_train, y_test = train_test_split(X,y, random_state=114)\n",
    "\n",
    "\n",
    "lr = LinearRegression().fit(X_train,y_train)\n",
    "\n",
    "datos_tabla69 = [114, lr.coef_, lr.intercept_, lr.score(X_train,y_train), lr.score(X_test,y_test)]\n",
    "#tabla\n",
    "table = [['random_state', 'test - E', 'Intercepto', 'R^2 train', 'R^2 test'], \n",
    "         [114, lr.coef_, lr.intercept_, lr.score(X_train,y_train), lr.score(X_test,y_test)]]\n",
    "print(tabulate(table, headers='firstrow', tablefmt='fancy_grid'))"
   ]
  },
  {
   "cell_type": "code",
   "execution_count": 69,
   "id": "14c91a40",
   "metadata": {},
   "outputs": [
    {
     "name": "stdout",
     "output_type": "stream",
     "text": [
      "╒════════════════╤═══════════════════════════╤══════════════╤═════════════╤════════════╕\n",
      "│   random_state │ test - E                  │   Intercepto │   R^2 train │   R^2 test │\n",
      "╞════════════════╪═══════════════════════════╪══════════════╪═════════════╪════════════╡\n",
      "│            617 │ [-0.03073602 -0.25903577] │     0.468455 │   0.0872026 │    0.17744 │\n",
      "╘════════════════╧═══════════════════════════╧══════════════╧═════════════╧════════════╛\n"
     ]
    }
   ],
   "source": [
    "# random_state = 617\n",
    "X = Data_scaled_pandas[['test', 'E']]\n",
    "y = Data_scaled_pandas['Smax']\n",
    "X_train, X_test, y_train, y_test = train_test_split(X,y, random_state=617)\n",
    "\n",
    "\n",
    "lr = LinearRegression().fit(X_train,y_train)\n",
    "\n",
    "datos_tabla70 = [617, lr.coef_, lr.intercept_, lr.score(X_train,y_train), lr.score(X_test,y_test)]\n",
    "#tabla\n",
    "table = [['random_state', 'test - E', 'Intercepto', 'R^2 train', 'R^2 test'], \n",
    "         [617, lr.coef_, lr.intercept_, lr.score(X_train,y_train), lr.score(X_test,y_test)]]\n",
    "print(tabulate(table, headers='firstrow', tablefmt='fancy_grid'))"
   ]
  },
  {
   "cell_type": "markdown",
   "id": "173505f8",
   "metadata": {},
   "source": [
    "# Resumen (test, E) y 10 random_state"
   ]
  },
  {
   "cell_type": "code",
   "execution_count": 70,
   "id": "58c64ceb",
   "metadata": {},
   "outputs": [
    {
     "name": "stdout",
     "output_type": "stream",
     "text": [
      "╒════╤════════════════╤═══════════════════════════╤══════════════╤═════════════╤═════════════╕\n",
      "│    │   random_state │ test - E                  │   Intercepto │   R^2 train │    R^2 test │\n",
      "╞════╪════════════════╪═══════════════════════════╪══════════════╪═════════════╪═════════════╡\n",
      "│  0 │            227 │ [-0.00098098 -0.34305791] │     0.488358 │   0.139125  │ -0.118524   │\n",
      "├────┼────────────────┼───────────────────────────┼──────────────┼─────────────┼─────────────┤\n",
      "│  1 │            504 │ [-0.04051641 -0.23480488] │     0.46764  │   0.0929551 │  0.133253   │\n",
      "├────┼────────────────┼───────────────────────────┼──────────────┼─────────────┼─────────────┤\n",
      "│  2 │            800 │ [-0.03407042 -0.2512916 ] │     0.479503 │   0.0794581 │  0.210268   │\n",
      "├────┼────────────────┼───────────────────────────┼──────────────┼─────────────┼─────────────┤\n",
      "│  3 │            120 │ [-0.01259951 -0.31741896] │     0.482954 │   0.123719  │  0.0860326  │\n",
      "├────┼────────────────┼───────────────────────────┼──────────────┼─────────────┼─────────────┤\n",
      "│  4 │            925 │ [-0.02440234 -0.36641238] │     0.504546 │   0.167297  │ -0.174329   │\n",
      "├────┼────────────────┼───────────────────────────┼──────────────┼─────────────┼─────────────┤\n",
      "│  5 │            792 │ [-0.00062286 -0.32585127] │     0.483843 │   0.131609  │ -0.00692437 │\n",
      "├────┼────────────────┼───────────────────────────┼──────────────┼─────────────┼─────────────┤\n",
      "│  6 │             33 │ [-0.04056679 -0.19324329] │     0.461466 │   0.0704088 │  0.164734   │\n",
      "├────┼────────────────┼───────────────────────────┼──────────────┼─────────────┼─────────────┤\n",
      "│  7 │            461 │ [-0.00407334 -0.28262429] │     0.449426 │   0.0902199 │  0.0320853  │\n",
      "├────┼────────────────┼───────────────────────────┼──────────────┼─────────────┼─────────────┤\n",
      "│  8 │            114 │ [-0.03978665 -0.36619997] │     0.501801 │   0.191598  │ -0.147491   │\n",
      "├────┼────────────────┼───────────────────────────┼──────────────┼─────────────┼─────────────┤\n",
      "│  9 │            617 │ [-0.03073602 -0.25903577] │     0.468455 │   0.0872026 │  0.17744    │\n",
      "╘════╧════════════════╧═══════════════════════════╧══════════════╧═════════════╧═════════════╛\n"
     ]
    }
   ],
   "source": [
    "headers = ['random_state', 'test - E', 'Intercepto', 'R^2 train', 'R^2 test']\n",
    "tabla_resumen7 = [headers, datos_tabla61, datos_tabla62, datos_tabla63, datos_tabla64, datos_tabla65, \n",
    "                 datos_tabla66, datos_tabla67, datos_tabla68, datos_tabla69, datos_tabla70]\n",
    "print(tabulate(tabla_resumen7, headers='firstrow', showindex = True, tablefmt='fancy_grid'))"
   ]
  }
 ],
 "metadata": {
  "kernelspec": {
   "display_name": "Python 3 (ipykernel)",
   "language": "python",
   "name": "python3"
  },
  "language_info": {
   "codemirror_mode": {
    "name": "ipython",
    "version": 3
   },
   "file_extension": ".py",
   "mimetype": "text/x-python",
   "name": "python",
   "nbconvert_exporter": "python",
   "pygments_lexer": "ipython3",
   "version": "3.10.6"
  }
 },
 "nbformat": 4,
 "nbformat_minor": 5
}
